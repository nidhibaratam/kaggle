{
 "cells": [
  {
   "cell_type": "code",
   "execution_count": 1,
   "id": "8b40a39c",
   "metadata": {
    "_cell_guid": "b1076dfc-b9ad-4769-8c92-a6c4dae69d19",
    "_uuid": "8f2839f25d086af736a60e9eeb907d3b93b6e0e5",
    "execution": {
     "iopub.execute_input": "2025-03-15T13:19:55.871099Z",
     "iopub.status.busy": "2025-03-15T13:19:55.870598Z",
     "iopub.status.idle": "2025-03-15T13:19:58.938825Z",
     "shell.execute_reply": "2025-03-15T13:19:58.937301Z"
    },
    "papermill": {
     "duration": 3.084631,
     "end_time": "2025-03-15T13:19:58.940982",
     "exception": false,
     "start_time": "2025-03-15T13:19:55.856351",
     "status": "completed"
    },
    "tags": []
   },
   "outputs": [
    {
     "name": "stdout",
     "output_type": "stream",
     "text": [
      "/kaggle/input/airfare-database/cleaned_data.csv\n",
      "/kaggle/input/airfare-database/raw_data.csv\n"
     ]
    }
   ],
   "source": [
    "# This Python 3 environment comes with many helpful analytics libraries installed\n",
    "# It is defined by the kaggle/python Docker image: https://github.com/kaggle/docker-python\n",
    "# For example, here's several helpful packages to load\n",
    "\n",
    "import numpy as np # linear algebra\n",
    "import pandas as pd # data processing, CSV file I/O (e.g. pd.read_csv)\n",
    "import seaborn as sns\n",
    "import matplotlib.pyplot as plt\n",
    "from datetime import datetime, timedelta\n",
    "# Input data files are available in the read-only \"../input/\" directory\n",
    "# For example, running this (by clicking run or pressing Shift+Enter) will list all files under the input directory\n",
    "\n",
    "import os\n",
    "for dirname, _, filenames in os.walk('/kaggle/input'):\n",
    "    for filename in filenames:\n",
    "        print(os.path.join(dirname, filename))\n",
    "\n",
    "# You can write up to 20GB to the current directory (/kaggle/working/) that gets preserved as output when you create a version using \"Save & Run All\" \n",
    "# You can also write temporary files to /kaggle/temp/, but they won't be saved outside of the current session"
   ]
  },
  {
   "cell_type": "markdown",
   "id": "953aa681",
   "metadata": {
    "papermill": {
     "duration": 0.01194,
     "end_time": "2025-03-15T13:19:58.965296",
     "exception": false,
     "start_time": "2025-03-15T13:19:58.953356",
     "status": "completed"
    },
    "tags": []
   },
   "source": [
    "# Loading data sets"
   ]
  },
  {
   "cell_type": "code",
   "execution_count": 2,
   "id": "a3c43a6c",
   "metadata": {
    "execution": {
     "iopub.execute_input": "2025-03-15T13:19:58.990596Z",
     "iopub.status.busy": "2025-03-15T13:19:58.990100Z",
     "iopub.status.idle": "2025-03-15T13:20:00.778902Z",
     "shell.execute_reply": "2025-03-15T13:20:00.777566Z"
    },
    "papermill": {
     "duration": 1.803803,
     "end_time": "2025-03-15T13:20:00.781237",
     "exception": false,
     "start_time": "2025-03-15T13:19:58.977434",
     "status": "completed"
    },
    "tags": []
   },
   "outputs": [],
   "source": [
    "#loading data\n",
    "train_data=pd.read_csv(\"/kaggle/input/airfare-database/cleaned_data.csv\")\n",
    "test_data=pd.read_csv(\"/kaggle/input/airfare-database/raw_data.csv\",low_memory=False)"
   ]
  },
  {
   "cell_type": "markdown",
   "id": "1998ef34",
   "metadata": {
    "papermill": {
     "duration": 0.011608,
     "end_time": "2025-03-15T13:20:00.811526",
     "exception": false,
     "start_time": "2025-03-15T13:20:00.799918",
     "status": "completed"
    },
    "tags": []
   },
   "source": [
    "# Training Data"
   ]
  },
  {
   "cell_type": "code",
   "execution_count": 3,
   "id": "6c997656",
   "metadata": {
    "execution": {
     "iopub.execute_input": "2025-03-15T13:20:00.837693Z",
     "iopub.status.busy": "2025-03-15T13:20:00.837277Z",
     "iopub.status.idle": "2025-03-15T13:20:00.870876Z",
     "shell.execute_reply": "2025-03-15T13:20:00.869786Z"
    },
    "papermill": {
     "duration": 0.049198,
     "end_time": "2025-03-15T13:20:00.872908",
     "exception": false,
     "start_time": "2025-03-15T13:20:00.823710",
     "status": "completed"
    },
    "tags": []
   },
   "outputs": [
    {
     "data": {
      "text/html": [
       "<div>\n",
       "<style scoped>\n",
       "    .dataframe tbody tr th:only-of-type {\n",
       "        vertical-align: middle;\n",
       "    }\n",
       "\n",
       "    .dataframe tbody tr th {\n",
       "        vertical-align: top;\n",
       "    }\n",
       "\n",
       "    .dataframe thead th {\n",
       "        text-align: right;\n",
       "    }\n",
       "</style>\n",
       "<table border=\"1\" class=\"dataframe\">\n",
       "  <thead>\n",
       "    <tr style=\"text-align: right;\">\n",
       "      <th></th>\n",
       "      <th>Unnamed: 0</th>\n",
       "      <th>airline</th>\n",
       "      <th>flight_code</th>\n",
       "      <th>source_city</th>\n",
       "      <th>time_taken</th>\n",
       "      <th>stop</th>\n",
       "      <th>destinate_city</th>\n",
       "      <th>price</th>\n",
       "      <th>Class</th>\n",
       "      <th>Days_Left</th>\n",
       "      <th>dep_time_category</th>\n",
       "      <th>arr_time_category</th>\n",
       "    </tr>\n",
       "  </thead>\n",
       "  <tbody>\n",
       "    <tr>\n",
       "      <th>0</th>\n",
       "      <td>0</td>\n",
       "      <td>SpiceJet</td>\n",
       "      <td>SG-8709</td>\n",
       "      <td>Delhi</td>\n",
       "      <td>130</td>\n",
       "      <td>non-stop</td>\n",
       "      <td>Mumbai</td>\n",
       "      <td>5953</td>\n",
       "      <td>Economy</td>\n",
       "      <td>1</td>\n",
       "      <td>Evening</td>\n",
       "      <td>Night</td>\n",
       "    </tr>\n",
       "    <tr>\n",
       "      <th>1</th>\n",
       "      <td>1</td>\n",
       "      <td>SpiceJet</td>\n",
       "      <td>SG-8157</td>\n",
       "      <td>Delhi</td>\n",
       "      <td>140</td>\n",
       "      <td>non-stop</td>\n",
       "      <td>Mumbai</td>\n",
       "      <td>5953</td>\n",
       "      <td>Economy</td>\n",
       "      <td>1</td>\n",
       "      <td>Early Morning</td>\n",
       "      <td>Morning</td>\n",
       "    </tr>\n",
       "    <tr>\n",
       "      <th>2</th>\n",
       "      <td>2</td>\n",
       "      <td>AirAsia</td>\n",
       "      <td>I5-764</td>\n",
       "      <td>Delhi</td>\n",
       "      <td>130</td>\n",
       "      <td>non-stop</td>\n",
       "      <td>Mumbai</td>\n",
       "      <td>5956</td>\n",
       "      <td>Economy</td>\n",
       "      <td>1</td>\n",
       "      <td>Early Morning</td>\n",
       "      <td>Early Morning</td>\n",
       "    </tr>\n",
       "    <tr>\n",
       "      <th>3</th>\n",
       "      <td>3</td>\n",
       "      <td>Vistara</td>\n",
       "      <td>UK-995</td>\n",
       "      <td>Delhi</td>\n",
       "      <td>135</td>\n",
       "      <td>non-stop</td>\n",
       "      <td>Mumbai</td>\n",
       "      <td>5955</td>\n",
       "      <td>Economy</td>\n",
       "      <td>1</td>\n",
       "      <td>Morning</td>\n",
       "      <td>Afternoon</td>\n",
       "    </tr>\n",
       "    <tr>\n",
       "      <th>4</th>\n",
       "      <td>4</td>\n",
       "      <td>Vistara</td>\n",
       "      <td>UK-963</td>\n",
       "      <td>Delhi</td>\n",
       "      <td>140</td>\n",
       "      <td>non-stop</td>\n",
       "      <td>Mumbai</td>\n",
       "      <td>5955</td>\n",
       "      <td>Economy</td>\n",
       "      <td>1</td>\n",
       "      <td>Morning</td>\n",
       "      <td>Morning</td>\n",
       "    </tr>\n",
       "  </tbody>\n",
       "</table>\n",
       "</div>"
      ],
      "text/plain": [
       "   Unnamed: 0   airline flight_code source_city  time_taken      stop  \\\n",
       "0           0  SpiceJet     SG-8709       Delhi         130  non-stop   \n",
       "1           1  SpiceJet     SG-8157       Delhi         140  non-stop   \n",
       "2           2   AirAsia      I5-764       Delhi         130  non-stop   \n",
       "3           3   Vistara      UK-995       Delhi         135  non-stop   \n",
       "4           4   Vistara      UK-963       Delhi         140  non-stop   \n",
       "\n",
       "  destinate_city  price    Class  Days_Left dep_time_category  \\\n",
       "0         Mumbai   5953  Economy          1           Evening   \n",
       "1         Mumbai   5953  Economy          1     Early Morning   \n",
       "2         Mumbai   5956  Economy          1     Early Morning   \n",
       "3         Mumbai   5955  Economy          1           Morning   \n",
       "4         Mumbai   5955  Economy          1           Morning   \n",
       "\n",
       "  arr_time_category  \n",
       "0             Night  \n",
       "1           Morning  \n",
       "2     Early Morning  \n",
       "3         Afternoon  \n",
       "4           Morning  "
      ]
     },
     "execution_count": 3,
     "metadata": {},
     "output_type": "execute_result"
    }
   ],
   "source": [
    "train_data.head()"
   ]
  },
  {
   "cell_type": "markdown",
   "id": "1ff54986",
   "metadata": {
    "papermill": {
     "duration": 0.012547,
     "end_time": "2025-03-15T13:20:00.897936",
     "exception": false,
     "start_time": "2025-03-15T13:20:00.885389",
     "status": "completed"
    },
    "tags": []
   },
   "source": [
    "# Testing Data"
   ]
  },
  {
   "cell_type": "code",
   "execution_count": 4,
   "id": "ceb725e5",
   "metadata": {
    "execution": {
     "iopub.execute_input": "2025-03-15T13:20:00.923947Z",
     "iopub.status.busy": "2025-03-15T13:20:00.923519Z",
     "iopub.status.idle": "2025-03-15T13:20:00.938176Z",
     "shell.execute_reply": "2025-03-15T13:20:00.936793Z"
    },
    "papermill": {
     "duration": 0.029667,
     "end_time": "2025-03-15T13:20:00.940039",
     "exception": false,
     "start_time": "2025-03-15T13:20:00.910372",
     "status": "completed"
    },
    "tags": []
   },
   "outputs": [
    {
     "data": {
      "text/html": [
       "<div>\n",
       "<style scoped>\n",
       "    .dataframe tbody tr th:only-of-type {\n",
       "        vertical-align: middle;\n",
       "    }\n",
       "\n",
       "    .dataframe tbody tr th {\n",
       "        vertical-align: top;\n",
       "    }\n",
       "\n",
       "    .dataframe thead th {\n",
       "        text-align: right;\n",
       "    }\n",
       "</style>\n",
       "<table border=\"1\" class=\"dataframe\">\n",
       "  <thead>\n",
       "    <tr style=\"text-align: right;\">\n",
       "      <th></th>\n",
       "      <th>date</th>\n",
       "      <th>airline</th>\n",
       "      <th>ch_code</th>\n",
       "      <th>num_code</th>\n",
       "      <th>dep_time</th>\n",
       "      <th>from</th>\n",
       "      <th>time_taken</th>\n",
       "      <th>stop</th>\n",
       "      <th>arr_time</th>\n",
       "      <th>to</th>\n",
       "      <th>price</th>\n",
       "      <th>Class</th>\n",
       "    </tr>\n",
       "  </thead>\n",
       "  <tbody>\n",
       "    <tr>\n",
       "      <th>0</th>\n",
       "      <td>11-02-2022</td>\n",
       "      <td>SpiceJet</td>\n",
       "      <td>SG</td>\n",
       "      <td>8709</td>\n",
       "      <td>18:55</td>\n",
       "      <td>Delhi</td>\n",
       "      <td>02h 10m</td>\n",
       "      <td>non-stop</td>\n",
       "      <td>21:05</td>\n",
       "      <td>Mumbai</td>\n",
       "      <td>5,953</td>\n",
       "      <td>Economy</td>\n",
       "    </tr>\n",
       "    <tr>\n",
       "      <th>1</th>\n",
       "      <td>11-02-2022</td>\n",
       "      <td>SpiceJet</td>\n",
       "      <td>SG</td>\n",
       "      <td>8157</td>\n",
       "      <td>6:20</td>\n",
       "      <td>Delhi</td>\n",
       "      <td>02h 20m</td>\n",
       "      <td>non-stop</td>\n",
       "      <td>8:40</td>\n",
       "      <td>Mumbai</td>\n",
       "      <td>5,953</td>\n",
       "      <td>Economy</td>\n",
       "    </tr>\n",
       "    <tr>\n",
       "      <th>2</th>\n",
       "      <td>11-02-2022</td>\n",
       "      <td>AirAsia</td>\n",
       "      <td>I5</td>\n",
       "      <td>764</td>\n",
       "      <td>4:25</td>\n",
       "      <td>Delhi</td>\n",
       "      <td>02h 10m</td>\n",
       "      <td>non-stop</td>\n",
       "      <td>6:35</td>\n",
       "      <td>Mumbai</td>\n",
       "      <td>5,956</td>\n",
       "      <td>Economy</td>\n",
       "    </tr>\n",
       "    <tr>\n",
       "      <th>3</th>\n",
       "      <td>11-02-2022</td>\n",
       "      <td>Vistara</td>\n",
       "      <td>UK</td>\n",
       "      <td>995</td>\n",
       "      <td>10:20</td>\n",
       "      <td>Delhi</td>\n",
       "      <td>02h 15m</td>\n",
       "      <td>non-stop</td>\n",
       "      <td>12:35</td>\n",
       "      <td>Mumbai</td>\n",
       "      <td>5,955</td>\n",
       "      <td>Economy</td>\n",
       "    </tr>\n",
       "    <tr>\n",
       "      <th>4</th>\n",
       "      <td>11-02-2022</td>\n",
       "      <td>Vistara</td>\n",
       "      <td>UK</td>\n",
       "      <td>963</td>\n",
       "      <td>8:50</td>\n",
       "      <td>Delhi</td>\n",
       "      <td>02h 20m</td>\n",
       "      <td>non-stop</td>\n",
       "      <td>11:10</td>\n",
       "      <td>Mumbai</td>\n",
       "      <td>5,955</td>\n",
       "      <td>Economy</td>\n",
       "    </tr>\n",
       "  </tbody>\n",
       "</table>\n",
       "</div>"
      ],
      "text/plain": [
       "         date   airline ch_code num_code dep_time   from time_taken  \\\n",
       "0  11-02-2022  SpiceJet      SG     8709    18:55  Delhi    02h 10m   \n",
       "1  11-02-2022  SpiceJet      SG     8157     6:20  Delhi    02h 20m   \n",
       "2  11-02-2022   AirAsia      I5      764     4:25  Delhi    02h 10m   \n",
       "3  11-02-2022   Vistara      UK      995    10:20  Delhi    02h 15m   \n",
       "4  11-02-2022   Vistara      UK      963     8:50  Delhi    02h 20m   \n",
       "\n",
       "        stop arr_time      to  price    Class  \n",
       "0  non-stop     21:05  Mumbai  5,953  Economy  \n",
       "1  non-stop      8:40  Mumbai  5,953  Economy  \n",
       "2  non-stop      6:35  Mumbai  5,956  Economy  \n",
       "3  non-stop     12:35  Mumbai  5,955  Economy  \n",
       "4  non-stop     11:10  Mumbai  5,955  Economy  "
      ]
     },
     "execution_count": 4,
     "metadata": {},
     "output_type": "execute_result"
    }
   ],
   "source": [
    "test_data.head()"
   ]
  },
  {
   "cell_type": "markdown",
   "id": "1cfeef28",
   "metadata": {
    "papermill": {
     "duration": 0.011765,
     "end_time": "2025-03-15T13:20:00.964151",
     "exception": false,
     "start_time": "2025-03-15T13:20:00.952386",
     "status": "completed"
    },
    "tags": []
   },
   "source": [
    "# Size of data "
   ]
  },
  {
   "cell_type": "code",
   "execution_count": 5,
   "id": "c0f72080",
   "metadata": {
    "execution": {
     "iopub.execute_input": "2025-03-15T13:20:00.990341Z",
     "iopub.status.busy": "2025-03-15T13:20:00.989939Z",
     "iopub.status.idle": "2025-03-15T13:20:00.997820Z",
     "shell.execute_reply": "2025-03-15T13:20:00.996469Z"
    },
    "papermill": {
     "duration": 0.023333,
     "end_time": "2025-03-15T13:20:00.999687",
     "exception": false,
     "start_time": "2025-03-15T13:20:00.976354",
     "status": "completed"
    },
    "tags": []
   },
   "outputs": [
    {
     "data": {
      "text/plain": [
       "(3587112, 3614460)"
      ]
     },
     "execution_count": 5,
     "metadata": {},
     "output_type": "execute_result"
    }
   ],
   "source": [
    "#size of data \n",
    "train_data.size,test_data.size\n"
   ]
  },
  {
   "cell_type": "markdown",
   "id": "2f0519f3",
   "metadata": {
    "papermill": {
     "duration": 0.012332,
     "end_time": "2025-03-15T13:20:01.024946",
     "exception": false,
     "start_time": "2025-03-15T13:20:01.012614",
     "status": "completed"
    },
    "tags": []
   },
   "source": [
    "# Shape of data"
   ]
  },
  {
   "cell_type": "code",
   "execution_count": 6,
   "id": "b31548bf",
   "metadata": {
    "execution": {
     "iopub.execute_input": "2025-03-15T13:20:01.056812Z",
     "iopub.status.busy": "2025-03-15T13:20:01.056286Z",
     "iopub.status.idle": "2025-03-15T13:20:01.066294Z",
     "shell.execute_reply": "2025-03-15T13:20:01.064449Z"
    },
    "papermill": {
     "duration": 0.031566,
     "end_time": "2025-03-15T13:20:01.069188",
     "exception": false,
     "start_time": "2025-03-15T13:20:01.037622",
     "status": "completed"
    },
    "tags": []
   },
   "outputs": [
    {
     "data": {
      "text/plain": [
       "((298926, 12), (301205, 12))"
      ]
     },
     "execution_count": 6,
     "metadata": {},
     "output_type": "execute_result"
    }
   ],
   "source": [
    "#shape of data\n",
    "train_data.shape,test_data.shape"
   ]
  },
  {
   "cell_type": "markdown",
   "id": "ca20f966",
   "metadata": {
    "papermill": {
     "duration": 0.016803,
     "end_time": "2025-03-15T13:20:01.101865",
     "exception": false,
     "start_time": "2025-03-15T13:20:01.085062",
     "status": "completed"
    },
    "tags": []
   },
   "source": [
    "# Information of data sets"
   ]
  },
  {
   "cell_type": "code",
   "execution_count": 7,
   "id": "3f73a5e4",
   "metadata": {
    "execution": {
     "iopub.execute_input": "2025-03-15T13:20:01.136786Z",
     "iopub.status.busy": "2025-03-15T13:20:01.136315Z",
     "iopub.status.idle": "2025-03-15T13:20:01.298507Z",
     "shell.execute_reply": "2025-03-15T13:20:01.297054Z"
    },
    "papermill": {
     "duration": 0.179226,
     "end_time": "2025-03-15T13:20:01.300532",
     "exception": false,
     "start_time": "2025-03-15T13:20:01.121306",
     "status": "completed"
    },
    "tags": []
   },
   "outputs": [
    {
     "name": "stdout",
     "output_type": "stream",
     "text": [
      "<class 'pandas.core.frame.DataFrame'>\n",
      "RangeIndex: 298926 entries, 0 to 298925\n",
      "Data columns (total 12 columns):\n",
      " #   Column             Non-Null Count   Dtype \n",
      "---  ------             --------------   ----- \n",
      " 0   Unnamed: 0         298926 non-null  int64 \n",
      " 1   airline            298926 non-null  object\n",
      " 2   flight_code        298926 non-null  object\n",
      " 3   source_city        298926 non-null  object\n",
      " 4   time_taken         298926 non-null  int64 \n",
      " 5   stop               298926 non-null  object\n",
      " 6   destinate_city     298926 non-null  object\n",
      " 7   price              298926 non-null  int64 \n",
      " 8   Class              298926 non-null  object\n",
      " 9   Days_Left          298926 non-null  int64 \n",
      " 10  dep_time_category  298926 non-null  object\n",
      " 11  arr_time_category  298926 non-null  object\n",
      "dtypes: int64(4), object(8)\n",
      "memory usage: 27.4+ MB\n"
     ]
    }
   ],
   "source": [
    "train_data.info()"
   ]
  },
  {
   "cell_type": "code",
   "execution_count": 8,
   "id": "61b049a5",
   "metadata": {
    "execution": {
     "iopub.execute_input": "2025-03-15T13:20:01.327404Z",
     "iopub.status.busy": "2025-03-15T13:20:01.327041Z",
     "iopub.status.idle": "2025-03-15T13:20:01.519958Z",
     "shell.execute_reply": "2025-03-15T13:20:01.518467Z"
    },
    "papermill": {
     "duration": 0.208681,
     "end_time": "2025-03-15T13:20:01.522185",
     "exception": false,
     "start_time": "2025-03-15T13:20:01.313504",
     "status": "completed"
    },
    "tags": []
   },
   "outputs": [
    {
     "name": "stdout",
     "output_type": "stream",
     "text": [
      "<class 'pandas.core.frame.DataFrame'>\n",
      "RangeIndex: 301205 entries, 0 to 301204\n",
      "Data columns (total 12 columns):\n",
      " #   Column      Non-Null Count   Dtype \n",
      "---  ------      --------------   ----- \n",
      " 0   date        301198 non-null  object\n",
      " 1   airline     301196 non-null  object\n",
      " 2   ch_code     301195 non-null  object\n",
      " 3   num_code    301197 non-null  object\n",
      " 4   dep_time    301198 non-null  object\n",
      " 5   from        301193 non-null  object\n",
      " 6   time_taken  301193 non-null  object\n",
      " 7   stop        301198 non-null  object\n",
      " 8   arr_time    301192 non-null  object\n",
      " 9   to          301196 non-null  object\n",
      " 10  price       301193 non-null  object\n",
      " 11  Class       301199 non-null  object\n",
      "dtypes: object(12)\n",
      "memory usage: 27.6+ MB\n"
     ]
    }
   ],
   "source": [
    "test_data.info()"
   ]
  },
  {
   "cell_type": "markdown",
   "id": "6ee2e80d",
   "metadata": {
    "papermill": {
     "duration": 0.013513,
     "end_time": "2025-03-15T13:20:01.549251",
     "exception": false,
     "start_time": "2025-03-15T13:20:01.535738",
     "status": "completed"
    },
    "tags": []
   },
   "source": [
    "# Checking missing values in dataset"
   ]
  },
  {
   "cell_type": "code",
   "execution_count": 9,
   "id": "f742fc50",
   "metadata": {
    "execution": {
     "iopub.execute_input": "2025-03-15T13:20:01.583088Z",
     "iopub.status.busy": "2025-03-15T13:20:01.582595Z",
     "iopub.status.idle": "2025-03-15T13:20:01.892201Z",
     "shell.execute_reply": "2025-03-15T13:20:01.891044Z"
    },
    "papermill": {
     "duration": 0.329099,
     "end_time": "2025-03-15T13:20:01.894481",
     "exception": false,
     "start_time": "2025-03-15T13:20:01.565382",
     "status": "completed"
    },
    "tags": []
   },
   "outputs": [
    {
     "data": {
      "text/plain": [
       "(False, True)"
      ]
     },
     "execution_count": 9,
     "metadata": {},
     "output_type": "execute_result"
    }
   ],
   "source": [
    "# Checking missing values in dataset\n",
    "train_data.isnull().values.any(),test_data.isnull().values.any()"
   ]
  },
  {
   "cell_type": "code",
   "execution_count": 10,
   "id": "e6873c19",
   "metadata": {
    "execution": {
     "iopub.execute_input": "2025-03-15T13:20:01.922354Z",
     "iopub.status.busy": "2025-03-15T13:20:01.921826Z",
     "iopub.status.idle": "2025-03-15T13:20:02.052213Z",
     "shell.execute_reply": "2025-03-15T13:20:02.050889Z"
    },
    "papermill": {
     "duration": 0.147055,
     "end_time": "2025-03-15T13:20:02.054256",
     "exception": false,
     "start_time": "2025-03-15T13:20:01.907201",
     "status": "completed"
    },
    "tags": []
   },
   "outputs": [
    {
     "data": {
      "text/plain": [
       "Unnamed: 0           0\n",
       "airline              0\n",
       "flight_code          0\n",
       "source_city          0\n",
       "time_taken           0\n",
       "stop                 0\n",
       "destinate_city       0\n",
       "price                0\n",
       "Class                0\n",
       "Days_Left            0\n",
       "dep_time_category    0\n",
       "arr_time_category    0\n",
       "dtype: int64"
      ]
     },
     "execution_count": 10,
     "metadata": {},
     "output_type": "execute_result"
    }
   ],
   "source": [
    "train_data.isnull().sum()"
   ]
  },
  {
   "cell_type": "code",
   "execution_count": 11,
   "id": "152542d4",
   "metadata": {
    "execution": {
     "iopub.execute_input": "2025-03-15T13:20:02.081364Z",
     "iopub.status.busy": "2025-03-15T13:20:02.081011Z",
     "iopub.status.idle": "2025-03-15T13:20:02.268575Z",
     "shell.execute_reply": "2025-03-15T13:20:02.267159Z"
    },
    "papermill": {
     "duration": 0.203762,
     "end_time": "2025-03-15T13:20:02.270874",
     "exception": false,
     "start_time": "2025-03-15T13:20:02.067112",
     "status": "completed"
    },
    "tags": []
   },
   "outputs": [
    {
     "data": {
      "text/plain": [
       "date           7\n",
       "airline        9\n",
       "ch_code       10\n",
       "num_code       8\n",
       "dep_time       7\n",
       "from          12\n",
       "time_taken    12\n",
       "stop           7\n",
       "arr_time      13\n",
       "to             9\n",
       "price         12\n",
       "Class          6\n",
       "dtype: int64"
      ]
     },
     "execution_count": 11,
     "metadata": {},
     "output_type": "execute_result"
    }
   ],
   "source": [
    "test_data.isnull().sum()"
   ]
  },
  {
   "cell_type": "markdown",
   "id": "14af4862",
   "metadata": {
    "papermill": {
     "duration": 0.012814,
     "end_time": "2025-03-15T13:20:02.296761",
     "exception": false,
     "start_time": "2025-03-15T13:20:02.283947",
     "status": "completed"
    },
    "tags": []
   },
   "source": [
    "# Checking if there are any Duplicate values"
   ]
  },
  {
   "cell_type": "code",
   "execution_count": 12,
   "id": "fb1fe7aa",
   "metadata": {
    "execution": {
     "iopub.execute_input": "2025-03-15T13:20:02.324155Z",
     "iopub.status.busy": "2025-03-15T13:20:02.323772Z",
     "iopub.status.idle": "2025-03-15T13:20:02.463207Z",
     "shell.execute_reply": "2025-03-15T13:20:02.461865Z"
    },
    "papermill": {
     "duration": 0.155988,
     "end_time": "2025-03-15T13:20:02.465414",
     "exception": false,
     "start_time": "2025-03-15T13:20:02.309426",
     "status": "completed"
    },
    "tags": []
   },
   "outputs": [],
   "source": [
    "train_data.dropna(inplace=True)"
   ]
  },
  {
   "cell_type": "code",
   "execution_count": 13,
   "id": "6e5279cc",
   "metadata": {
    "execution": {
     "iopub.execute_input": "2025-03-15T13:20:02.494011Z",
     "iopub.status.busy": "2025-03-15T13:20:02.493546Z",
     "iopub.status.idle": "2025-03-15T13:20:02.729278Z",
     "shell.execute_reply": "2025-03-15T13:20:02.727468Z"
    },
    "papermill": {
     "duration": 0.253052,
     "end_time": "2025-03-15T13:20:02.731476",
     "exception": false,
     "start_time": "2025-03-15T13:20:02.478424",
     "status": "completed"
    },
    "tags": []
   },
   "outputs": [
    {
     "data": {
      "text/html": [
       "<div>\n",
       "<style scoped>\n",
       "    .dataframe tbody tr th:only-of-type {\n",
       "        vertical-align: middle;\n",
       "    }\n",
       "\n",
       "    .dataframe tbody tr th {\n",
       "        vertical-align: top;\n",
       "    }\n",
       "\n",
       "    .dataframe thead th {\n",
       "        text-align: right;\n",
       "    }\n",
       "</style>\n",
       "<table border=\"1\" class=\"dataframe\">\n",
       "  <thead>\n",
       "    <tr style=\"text-align: right;\">\n",
       "      <th></th>\n",
       "      <th>Unnamed: 0</th>\n",
       "      <th>airline</th>\n",
       "      <th>flight_code</th>\n",
       "      <th>source_city</th>\n",
       "      <th>time_taken</th>\n",
       "      <th>stop</th>\n",
       "      <th>destinate_city</th>\n",
       "      <th>price</th>\n",
       "      <th>Class</th>\n",
       "      <th>Days_Left</th>\n",
       "      <th>dep_time_category</th>\n",
       "      <th>arr_time_category</th>\n",
       "    </tr>\n",
       "  </thead>\n",
       "  <tbody>\n",
       "  </tbody>\n",
       "</table>\n",
       "</div>"
      ],
      "text/plain": [
       "Empty DataFrame\n",
       "Columns: [Unnamed: 0, airline, flight_code, source_city, time_taken, stop, destinate_city, price, Class, Days_Left, dep_time_category, arr_time_category]\n",
       "Index: []"
      ]
     },
     "execution_count": 13,
     "metadata": {},
     "output_type": "execute_result"
    }
   ],
   "source": [
    "# Checking if there are any Duplicate values\n",
    "train_data[train_data.duplicated()]"
   ]
  },
  {
   "cell_type": "code",
   "execution_count": 14,
   "id": "c492e609",
   "metadata": {
    "execution": {
     "iopub.execute_input": "2025-03-15T13:20:02.764315Z",
     "iopub.status.busy": "2025-03-15T13:20:02.763650Z",
     "iopub.status.idle": "2025-03-15T13:20:03.020142Z",
     "shell.execute_reply": "2025-03-15T13:20:03.018965Z"
    },
    "papermill": {
     "duration": 0.275977,
     "end_time": "2025-03-15T13:20:03.022344",
     "exception": false,
     "start_time": "2025-03-15T13:20:02.746367",
     "status": "completed"
    },
    "tags": []
   },
   "outputs": [],
   "source": [
    "# Drop duplicates value\n",
    "train_data.drop_duplicates(keep='first',inplace=True)"
   ]
  },
  {
   "cell_type": "markdown",
   "id": "70604aa2",
   "metadata": {
    "papermill": {
     "duration": 0.01549,
     "end_time": "2025-03-15T13:20:03.052520",
     "exception": false,
     "start_time": "2025-03-15T13:20:03.037030",
     "status": "completed"
    },
    "tags": []
   },
   "source": [
    "# Calculating the date after number of days left in train data"
   ]
  },
  {
   "cell_type": "code",
   "execution_count": 15,
   "id": "34ea8fac",
   "metadata": {
    "execution": {
     "iopub.execute_input": "2025-03-15T13:20:03.087133Z",
     "iopub.status.busy": "2025-03-15T13:20:03.086761Z",
     "iopub.status.idle": "2025-03-15T13:20:03.703378Z",
     "shell.execute_reply": "2025-03-15T13:20:03.701821Z"
    },
    "papermill": {
     "duration": 0.637141,
     "end_time": "2025-03-15T13:20:03.705934",
     "exception": false,
     "start_time": "2025-03-15T13:20:03.068793",
     "status": "completed"
    },
    "tags": []
   },
   "outputs": [
    {
     "data": {
      "text/html": [
       "<div>\n",
       "<style scoped>\n",
       "    .dataframe tbody tr th:only-of-type {\n",
       "        vertical-align: middle;\n",
       "    }\n",
       "\n",
       "    .dataframe tbody tr th {\n",
       "        vertical-align: top;\n",
       "    }\n",
       "\n",
       "    .dataframe thead th {\n",
       "        text-align: right;\n",
       "    }\n",
       "</style>\n",
       "<table border=\"1\" class=\"dataframe\">\n",
       "  <thead>\n",
       "    <tr style=\"text-align: right;\">\n",
       "      <th></th>\n",
       "      <th>Unnamed: 0</th>\n",
       "      <th>airline</th>\n",
       "      <th>flight_code</th>\n",
       "      <th>source_city</th>\n",
       "      <th>time_taken</th>\n",
       "      <th>stop</th>\n",
       "      <th>destinate_city</th>\n",
       "      <th>price</th>\n",
       "      <th>Class</th>\n",
       "      <th>Days_Left</th>\n",
       "      <th>dep_time_category</th>\n",
       "      <th>arr_time_category</th>\n",
       "      <th>Date_of_Journey</th>\n",
       "    </tr>\n",
       "  </thead>\n",
       "  <tbody>\n",
       "    <tr>\n",
       "      <th>0</th>\n",
       "      <td>0</td>\n",
       "      <td>SpiceJet</td>\n",
       "      <td>SG-8709</td>\n",
       "      <td>Delhi</td>\n",
       "      <td>130</td>\n",
       "      <td>non-stop</td>\n",
       "      <td>Mumbai</td>\n",
       "      <td>5953</td>\n",
       "      <td>Economy</td>\n",
       "      <td>1</td>\n",
       "      <td>Evening</td>\n",
       "      <td>Night</td>\n",
       "      <td>11-02-2022</td>\n",
       "    </tr>\n",
       "    <tr>\n",
       "      <th>1</th>\n",
       "      <td>1</td>\n",
       "      <td>SpiceJet</td>\n",
       "      <td>SG-8157</td>\n",
       "      <td>Delhi</td>\n",
       "      <td>140</td>\n",
       "      <td>non-stop</td>\n",
       "      <td>Mumbai</td>\n",
       "      <td>5953</td>\n",
       "      <td>Economy</td>\n",
       "      <td>1</td>\n",
       "      <td>Early Morning</td>\n",
       "      <td>Morning</td>\n",
       "      <td>11-02-2022</td>\n",
       "    </tr>\n",
       "    <tr>\n",
       "      <th>2</th>\n",
       "      <td>2</td>\n",
       "      <td>AirAsia</td>\n",
       "      <td>I5-764</td>\n",
       "      <td>Delhi</td>\n",
       "      <td>130</td>\n",
       "      <td>non-stop</td>\n",
       "      <td>Mumbai</td>\n",
       "      <td>5956</td>\n",
       "      <td>Economy</td>\n",
       "      <td>1</td>\n",
       "      <td>Early Morning</td>\n",
       "      <td>Early Morning</td>\n",
       "      <td>11-02-2022</td>\n",
       "    </tr>\n",
       "    <tr>\n",
       "      <th>3</th>\n",
       "      <td>3</td>\n",
       "      <td>Vistara</td>\n",
       "      <td>UK-995</td>\n",
       "      <td>Delhi</td>\n",
       "      <td>135</td>\n",
       "      <td>non-stop</td>\n",
       "      <td>Mumbai</td>\n",
       "      <td>5955</td>\n",
       "      <td>Economy</td>\n",
       "      <td>1</td>\n",
       "      <td>Morning</td>\n",
       "      <td>Afternoon</td>\n",
       "      <td>11-02-2022</td>\n",
       "    </tr>\n",
       "    <tr>\n",
       "      <th>4</th>\n",
       "      <td>4</td>\n",
       "      <td>Vistara</td>\n",
       "      <td>UK-963</td>\n",
       "      <td>Delhi</td>\n",
       "      <td>140</td>\n",
       "      <td>non-stop</td>\n",
       "      <td>Mumbai</td>\n",
       "      <td>5955</td>\n",
       "      <td>Economy</td>\n",
       "      <td>1</td>\n",
       "      <td>Morning</td>\n",
       "      <td>Morning</td>\n",
       "      <td>11-02-2022</td>\n",
       "    </tr>\n",
       "  </tbody>\n",
       "</table>\n",
       "</div>"
      ],
      "text/plain": [
       "   Unnamed: 0   airline flight_code source_city  time_taken      stop  \\\n",
       "0           0  SpiceJet     SG-8709       Delhi         130  non-stop   \n",
       "1           1  SpiceJet     SG-8157       Delhi         140  non-stop   \n",
       "2           2   AirAsia      I5-764       Delhi         130  non-stop   \n",
       "3           3   Vistara      UK-995       Delhi         135  non-stop   \n",
       "4           4   Vistara      UK-963       Delhi         140  non-stop   \n",
       "\n",
       "  destinate_city  price    Class  Days_Left dep_time_category  \\\n",
       "0         Mumbai   5953  Economy          1           Evening   \n",
       "1         Mumbai   5953  Economy          1     Early Morning   \n",
       "2         Mumbai   5956  Economy          1     Early Morning   \n",
       "3         Mumbai   5955  Economy          1           Morning   \n",
       "4         Mumbai   5955  Economy          1           Morning   \n",
       "\n",
       "  arr_time_category Date_of_Journey  \n",
       "0             Night      11-02-2022  \n",
       "1           Morning      11-02-2022  \n",
       "2     Early Morning      11-02-2022  \n",
       "3         Afternoon      11-02-2022  \n",
       "4           Morning      11-02-2022  "
      ]
     },
     "execution_count": 15,
     "metadata": {},
     "output_type": "execute_result"
    }
   ],
   "source": [
    "# Define the base date components (10-02-2022)\n",
    "base_day = 10\n",
    "base_month = 2\n",
    "base_year = 2022\n",
    "\n",
    "# Convert Days_Left to numeric\n",
    "train_data[\"Days_Left\"] = pd.to_numeric(train_data[\"Days_Left\"], errors=\"coerce\")\n",
    "\n",
    "# Function to manually calculate new date\n",
    "def calculate_date(days_left):\n",
    "    if pd.isna(days_left):\n",
    "        return None  # Handle NaN values\n",
    "\n",
    "    days_left = int(days_left)  # Convert to integer\n",
    "    day = base_day + days_left\n",
    "    month = base_month\n",
    "    year = base_year\n",
    "\n",
    "    # Days in each month (ignoring leap years for simplicity)\n",
    "    days_in_month = [31, 28, 31, 30, 31, 30, 31, 31, 30, 31, 30, 31]\n",
    "\n",
    "    # Adjust for February in a leap year\n",
    "    if (year % 4 == 0 and year % 100 != 0) or (year % 400 == 0):\n",
    "        days_in_month[1] = 29  # Leap year February\n",
    "\n",
    "    # Adjust day and month\n",
    "    while day > days_in_month[month - 1]:  # Check if day exceeds the month's limit\n",
    "        day -= days_in_month[month - 1]\n",
    "        month += 1\n",
    "        if month > 12:  # If month exceeds December, increment year\n",
    "            month = 1\n",
    "            year += 1\n",
    "\n",
    "    # Format as DD-MM-YYYY\n",
    "    return f\"{day:02d}-{month:02d}-{year}\"\n",
    "\n",
    "# Apply function to create Date_of_Journey\n",
    "train_data[\"Date_of_Journey\"] = train_data[\"Days_Left\"].apply(calculate_date)\n",
    "\n",
    "# Display the first few rows to verify\n",
    "train_data.head()"
   ]
  },
  {
   "cell_type": "markdown",
   "id": "73312d6b",
   "metadata": {
    "papermill": {
     "duration": 0.014132,
     "end_time": "2025-03-15T13:20:03.735308",
     "exception": false,
     "start_time": "2025-03-15T13:20:03.721176",
     "status": "completed"
    },
    "tags": []
   },
   "source": [
    "# Converting time_taken (in hours and minutes) to time_taken (minutes) in train_data"
   ]
  },
  {
   "cell_type": "code",
   "execution_count": 16,
   "id": "b7f2c453",
   "metadata": {
    "execution": {
     "iopub.execute_input": "2025-03-15T13:20:03.766549Z",
     "iopub.status.busy": "2025-03-15T13:20:03.766206Z",
     "iopub.status.idle": "2025-03-15T13:20:04.167604Z",
     "shell.execute_reply": "2025-03-15T13:20:04.166445Z"
    },
    "papermill": {
     "duration": 0.420661,
     "end_time": "2025-03-15T13:20:04.169939",
     "exception": false,
     "start_time": "2025-03-15T13:20:03.749278",
     "status": "completed"
    },
    "tags": []
   },
   "outputs": [
    {
     "data": {
      "text/html": [
       "<div>\n",
       "<style scoped>\n",
       "    .dataframe tbody tr th:only-of-type {\n",
       "        vertical-align: middle;\n",
       "    }\n",
       "\n",
       "    .dataframe tbody tr th {\n",
       "        vertical-align: top;\n",
       "    }\n",
       "\n",
       "    .dataframe thead th {\n",
       "        text-align: right;\n",
       "    }\n",
       "</style>\n",
       "<table border=\"1\" class=\"dataframe\">\n",
       "  <thead>\n",
       "    <tr style=\"text-align: right;\">\n",
       "      <th></th>\n",
       "      <th>airline</th>\n",
       "      <th>flight_code</th>\n",
       "      <th>source_city</th>\n",
       "      <th>time_taken</th>\n",
       "      <th>stop</th>\n",
       "      <th>destinate_city</th>\n",
       "      <th>price</th>\n",
       "      <th>Class</th>\n",
       "      <th>Days_Left</th>\n",
       "      <th>dep_time_category</th>\n",
       "      <th>arr_time_category</th>\n",
       "      <th>Date_of_Journey</th>\n",
       "    </tr>\n",
       "  </thead>\n",
       "  <tbody>\n",
       "    <tr>\n",
       "      <th>0</th>\n",
       "      <td>SpiceJet</td>\n",
       "      <td>SG-8709</td>\n",
       "      <td>Delhi</td>\n",
       "      <td>130</td>\n",
       "      <td>non-stop</td>\n",
       "      <td>Mumbai</td>\n",
       "      <td>5953</td>\n",
       "      <td>Economy</td>\n",
       "      <td>1</td>\n",
       "      <td>Evening</td>\n",
       "      <td>Night</td>\n",
       "      <td>11-02-2022</td>\n",
       "    </tr>\n",
       "    <tr>\n",
       "      <th>1</th>\n",
       "      <td>SpiceJet</td>\n",
       "      <td>SG-8157</td>\n",
       "      <td>Delhi</td>\n",
       "      <td>140</td>\n",
       "      <td>non-stop</td>\n",
       "      <td>Mumbai</td>\n",
       "      <td>5953</td>\n",
       "      <td>Economy</td>\n",
       "      <td>1</td>\n",
       "      <td>Early Morning</td>\n",
       "      <td>Morning</td>\n",
       "      <td>11-02-2022</td>\n",
       "    </tr>\n",
       "    <tr>\n",
       "      <th>2</th>\n",
       "      <td>AirAsia</td>\n",
       "      <td>I5-764</td>\n",
       "      <td>Delhi</td>\n",
       "      <td>130</td>\n",
       "      <td>non-stop</td>\n",
       "      <td>Mumbai</td>\n",
       "      <td>5956</td>\n",
       "      <td>Economy</td>\n",
       "      <td>1</td>\n",
       "      <td>Early Morning</td>\n",
       "      <td>Early Morning</td>\n",
       "      <td>11-02-2022</td>\n",
       "    </tr>\n",
       "    <tr>\n",
       "      <th>3</th>\n",
       "      <td>Vistara</td>\n",
       "      <td>UK-995</td>\n",
       "      <td>Delhi</td>\n",
       "      <td>135</td>\n",
       "      <td>non-stop</td>\n",
       "      <td>Mumbai</td>\n",
       "      <td>5955</td>\n",
       "      <td>Economy</td>\n",
       "      <td>1</td>\n",
       "      <td>Morning</td>\n",
       "      <td>Afternoon</td>\n",
       "      <td>11-02-2022</td>\n",
       "    </tr>\n",
       "    <tr>\n",
       "      <th>4</th>\n",
       "      <td>Vistara</td>\n",
       "      <td>UK-963</td>\n",
       "      <td>Delhi</td>\n",
       "      <td>140</td>\n",
       "      <td>non-stop</td>\n",
       "      <td>Mumbai</td>\n",
       "      <td>5955</td>\n",
       "      <td>Economy</td>\n",
       "      <td>1</td>\n",
       "      <td>Morning</td>\n",
       "      <td>Morning</td>\n",
       "      <td>11-02-2022</td>\n",
       "    </tr>\n",
       "  </tbody>\n",
       "</table>\n",
       "</div>"
      ],
      "text/plain": [
       "    airline flight_code source_city  time_taken      stop destinate_city  \\\n",
       "0  SpiceJet     SG-8709       Delhi         130  non-stop         Mumbai   \n",
       "1  SpiceJet     SG-8157       Delhi         140  non-stop         Mumbai   \n",
       "2   AirAsia      I5-764       Delhi         130  non-stop         Mumbai   \n",
       "3   Vistara      UK-995       Delhi         135  non-stop         Mumbai   \n",
       "4   Vistara      UK-963       Delhi         140  non-stop         Mumbai   \n",
       "\n",
       "   price    Class  Days_Left dep_time_category arr_time_category  \\\n",
       "0   5953  Economy          1           Evening             Night   \n",
       "1   5953  Economy          1     Early Morning           Morning   \n",
       "2   5956  Economy          1     Early Morning     Early Morning   \n",
       "3   5955  Economy          1           Morning         Afternoon   \n",
       "4   5955  Economy          1           Morning           Morning   \n",
       "\n",
       "  Date_of_Journey  \n",
       "0      11-02-2022  \n",
       "1      11-02-2022  \n",
       "2      11-02-2022  \n",
       "3      11-02-2022  \n",
       "4      11-02-2022  "
      ]
     },
     "execution_count": 16,
     "metadata": {},
     "output_type": "execute_result"
    }
   ],
   "source": [
    "def convert_time_to_minutes(time_str):\n",
    "    try:\n",
    "        # Extract numbers from string (handles cases like '5h 30m')\n",
    "        hours = int(time_str.split('h')[0]) if 'h' in time_str else 0\n",
    "        mins = int(time_str.split('h')[-1].split('m')[0]) if 'm' in time_str else 0\n",
    "        return hours * 60 + mins\n",
    "    except:\n",
    "        return None\n",
    "\n",
    "# Apply conversion\n",
    "test_data[\"time_taken\"] = test_data[\"time_taken\"].apply(convert_time_to_minutes)\n",
    "\n",
    "\n",
    "#remove unammed :0\n",
    "train_data = train_data.loc[:, ~train_data.columns.str.contains('^Unnamed')]\n",
    "\n",
    "\n",
    "train_data.head()\n"
   ]
  },
  {
   "cell_type": "markdown",
   "id": "af9909b8",
   "metadata": {
    "papermill": {
     "duration": 0.013394,
     "end_time": "2025-03-15T13:20:04.197486",
     "exception": false,
     "start_time": "2025-03-15T13:20:04.184092",
     "status": "completed"
    },
    "tags": []
   },
   "source": [
    "# To merge num_code and ch_code to flight_code in test_data"
   ]
  },
  {
   "cell_type": "code",
   "execution_count": 17,
   "id": "a0f388fc",
   "metadata": {
    "execution": {
     "iopub.execute_input": "2025-03-15T13:20:04.226033Z",
     "iopub.status.busy": "2025-03-15T13:20:04.225520Z",
     "iopub.status.idle": "2025-03-15T13:20:05.082898Z",
     "shell.execute_reply": "2025-03-15T13:20:05.081372Z"
    },
    "papermill": {
     "duration": 0.873705,
     "end_time": "2025-03-15T13:20:05.084869",
     "exception": false,
     "start_time": "2025-03-15T13:20:04.211164",
     "status": "completed"
    },
    "tags": []
   },
   "outputs": [
    {
     "data": {
      "text/html": [
       "<div>\n",
       "<style scoped>\n",
       "    .dataframe tbody tr th:only-of-type {\n",
       "        vertical-align: middle;\n",
       "    }\n",
       "\n",
       "    .dataframe tbody tr th {\n",
       "        vertical-align: top;\n",
       "    }\n",
       "\n",
       "    .dataframe thead th {\n",
       "        text-align: right;\n",
       "    }\n",
       "</style>\n",
       "<table border=\"1\" class=\"dataframe\">\n",
       "  <thead>\n",
       "    <tr style=\"text-align: right;\">\n",
       "      <th></th>\n",
       "      <th>date</th>\n",
       "      <th>airline</th>\n",
       "      <th>dep_time</th>\n",
       "      <th>from</th>\n",
       "      <th>time_taken</th>\n",
       "      <th>stop</th>\n",
       "      <th>arr_time</th>\n",
       "      <th>to</th>\n",
       "      <th>price</th>\n",
       "      <th>Class</th>\n",
       "      <th>flight_code</th>\n",
       "    </tr>\n",
       "  </thead>\n",
       "  <tbody>\n",
       "    <tr>\n",
       "      <th>0</th>\n",
       "      <td>11-02-2022</td>\n",
       "      <td>SpiceJet</td>\n",
       "      <td>18:55</td>\n",
       "      <td>Delhi</td>\n",
       "      <td>130.0</td>\n",
       "      <td>non-stop</td>\n",
       "      <td>21:05</td>\n",
       "      <td>Mumbai</td>\n",
       "      <td>5,953</td>\n",
       "      <td>Economy</td>\n",
       "      <td>SG-8709</td>\n",
       "    </tr>\n",
       "    <tr>\n",
       "      <th>1</th>\n",
       "      <td>11-02-2022</td>\n",
       "      <td>SpiceJet</td>\n",
       "      <td>6:20</td>\n",
       "      <td>Delhi</td>\n",
       "      <td>140.0</td>\n",
       "      <td>non-stop</td>\n",
       "      <td>8:40</td>\n",
       "      <td>Mumbai</td>\n",
       "      <td>5,953</td>\n",
       "      <td>Economy</td>\n",
       "      <td>SG-8157</td>\n",
       "    </tr>\n",
       "    <tr>\n",
       "      <th>2</th>\n",
       "      <td>11-02-2022</td>\n",
       "      <td>AirAsia</td>\n",
       "      <td>4:25</td>\n",
       "      <td>Delhi</td>\n",
       "      <td>130.0</td>\n",
       "      <td>non-stop</td>\n",
       "      <td>6:35</td>\n",
       "      <td>Mumbai</td>\n",
       "      <td>5,956</td>\n",
       "      <td>Economy</td>\n",
       "      <td>I5-764</td>\n",
       "    </tr>\n",
       "    <tr>\n",
       "      <th>3</th>\n",
       "      <td>11-02-2022</td>\n",
       "      <td>Vistara</td>\n",
       "      <td>10:20</td>\n",
       "      <td>Delhi</td>\n",
       "      <td>135.0</td>\n",
       "      <td>non-stop</td>\n",
       "      <td>12:35</td>\n",
       "      <td>Mumbai</td>\n",
       "      <td>5,955</td>\n",
       "      <td>Economy</td>\n",
       "      <td>UK-995</td>\n",
       "    </tr>\n",
       "    <tr>\n",
       "      <th>4</th>\n",
       "      <td>11-02-2022</td>\n",
       "      <td>Vistara</td>\n",
       "      <td>8:50</td>\n",
       "      <td>Delhi</td>\n",
       "      <td>140.0</td>\n",
       "      <td>non-stop</td>\n",
       "      <td>11:10</td>\n",
       "      <td>Mumbai</td>\n",
       "      <td>5,955</td>\n",
       "      <td>Economy</td>\n",
       "      <td>UK-963</td>\n",
       "    </tr>\n",
       "  </tbody>\n",
       "</table>\n",
       "</div>"
      ],
      "text/plain": [
       "         date   airline dep_time   from  time_taken       stop arr_time  \\\n",
       "0  11-02-2022  SpiceJet    18:55  Delhi       130.0  non-stop     21:05   \n",
       "1  11-02-2022  SpiceJet     6:20  Delhi       140.0  non-stop      8:40   \n",
       "2  11-02-2022   AirAsia     4:25  Delhi       130.0  non-stop      6:35   \n",
       "3  11-02-2022   Vistara    10:20  Delhi       135.0  non-stop     12:35   \n",
       "4  11-02-2022   Vistara     8:50  Delhi       140.0  non-stop     11:10   \n",
       "\n",
       "       to  price    Class flight_code  \n",
       "0  Mumbai  5,953  Economy     SG-8709  \n",
       "1  Mumbai  5,953  Economy     SG-8157  \n",
       "2  Mumbai  5,956  Economy      I5-764  \n",
       "3  Mumbai  5,955  Economy      UK-995  \n",
       "4  Mumbai  5,955  Economy      UK-963  "
      ]
     },
     "execution_count": 17,
     "metadata": {},
     "output_type": "execute_result"
    }
   ],
   "source": [
    "# Ensure num_code is a string and remove any decimal points if necessary\n",
    "test_data[\"num_code\"] = test_data[\"num_code\"].astype(str).str.split(\".\").str[0]\n",
    "\n",
    "# Fill NaN values in ch_code and num_code to avoid errors during concatenation\n",
    "test_data[\"ch_code\"] = test_data[\"ch_code\"].fillna(\"\")\n",
    "test_data[\"num_code\"] = test_data[\"num_code\"].fillna(\"\")\n",
    "\n",
    "# Merge ch_code and num_code with a hyphen\n",
    "test_data[\"flight_code\"] = test_data[\"ch_code\"] + \"-\" + test_data[\"num_code\"]\n",
    "\n",
    "# Remove trailing hyphen if num_code is empty\n",
    "test_data[\"flight_code\"] = test_data[\"flight_code\"].str.rstrip(\"-\")\n",
    "\n",
    "# Drop ch_code  columns from test_data\n",
    "test_data.drop(columns=['ch_code'], inplace=True)\n",
    "\n",
    "# Drop num_code  columns from test_data\n",
    "test_data.drop(columns=['num_code'], inplace=True)\n",
    "\n",
    "# Display results\n",
    "test_data.head()\n"
   ]
  },
  {
   "cell_type": "markdown",
   "id": "b9102369",
   "metadata": {
    "papermill": {
     "duration": 0.013851,
     "end_time": "2025-03-15T13:20:05.114095",
     "exception": false,
     "start_time": "2025-03-15T13:20:05.100244",
     "status": "completed"
    },
    "tags": []
   },
   "source": [
    "# Finding number of flights per day and making it into a plot graph"
   ]
  },
  {
   "cell_type": "code",
   "execution_count": 18,
   "id": "64f2abd9",
   "metadata": {
    "execution": {
     "iopub.execute_input": "2025-03-15T13:20:05.143557Z",
     "iopub.status.busy": "2025-03-15T13:20:05.143175Z",
     "iopub.status.idle": "2025-03-15T13:20:06.648429Z",
     "shell.execute_reply": "2025-03-15T13:20:06.647123Z"
    },
    "papermill": {
     "duration": 1.522639,
     "end_time": "2025-03-15T13:20:06.650575",
     "exception": false,
     "start_time": "2025-03-15T13:20:05.127936",
     "status": "completed"
    },
    "tags": []
   },
   "outputs": [
    {
     "data": {
      "text/plain": [
       "date\n",
       "01-03-2022    6531\n",
       "02-03-2022    6479\n",
       "03-03-2022    6460\n",
       "04-03-2022    6472\n",
       "05-03-2022    6383\n",
       "06-03-2022    6520\n",
       "07-03-2022    6622\n",
       "08-03-2022    6563\n",
       "09-03-2022    6340\n",
       "10-03-2022    6510\n",
       "11-02-2022    1889\n",
       "11-03-2022    6386\n",
       "12-02-2022    3955\n",
       "12-03-2022    6485\n",
       "13-02-2022    4170\n",
       "13-03-2022    6510\n",
       "14-02-2022    5028\n",
       "14-03-2022    6576\n",
       "15-02-2022    5350\n",
       "15-03-2022    6521\n",
       "16-02-2022    5709\n",
       "16-03-2022    6402\n",
       "17-02-2022    5652\n",
       "17-03-2022    6275\n",
       "18-02-2022    5735\n",
       "18-03-2022    6474\n",
       "19-02-2022    5613\n",
       "19-03-2022    6461\n",
       "20-02-2022    5778\n",
       "20-03-2022    6492\n",
       "21-02-2022    6395\n",
       "21-03-2022    6580\n",
       "22-02-2022    6354\n",
       "22-03-2022    6516\n",
       "23-02-2022    6385\n",
       "23-03-2022    6511\n",
       "24-02-2022    6296\n",
       "24-03-2022    6478\n",
       "25-02-2022    6309\n",
       "25-03-2022    6459\n",
       "26-02-2022    6231\n",
       "26-03-2022    6413\n",
       "27-02-2022    6381\n",
       "27-03-2022    6294\n",
       "28-02-2022    6568\n",
       "28-03-2022    6145\n",
       "29-03-2022    6052\n",
       "30-03-2022    6066\n",
       "31-03-2022    6152\n",
       "Name: count, dtype: int64"
      ]
     },
     "execution_count": 18,
     "metadata": {},
     "output_type": "execute_result"
    }
   ],
   "source": [
    "# Convert 'Date_of_Journey' to datetime format\n",
    "train_data[\"Date_of_Journey\"] = pd.to_datetime(train_data[\"Date_of_Journey\"], format=\"%d-%m-%Y\", errors=\"coerce\")\n",
    "\n",
    "# Extract day, month, and year\n",
    "train_data[\"date\"] = train_data[\"Date_of_Journey\"].dt.strftime(\"%d-%m-%Y\")\n",
    "\n",
    "# Count flights per day\n",
    "flights_per_day = train_data[\"date\"].value_counts().sort_index()\n",
    "\n",
    "# Display results\n",
    "flights_per_day\n"
   ]
  },
  {
   "cell_type": "code",
   "execution_count": 19,
   "id": "0de6d10c",
   "metadata": {
    "execution": {
     "iopub.execute_input": "2025-03-15T13:20:06.681287Z",
     "iopub.status.busy": "2025-03-15T13:20:06.680945Z",
     "iopub.status.idle": "2025-03-15T13:20:07.794012Z",
     "shell.execute_reply": "2025-03-15T13:20:07.792770Z"
    },
    "papermill": {
     "duration": 1.130399,
     "end_time": "2025-03-15T13:20:07.795644",
     "exception": false,
     "start_time": "2025-03-15T13:20:06.665245",
     "status": "completed"
    },
    "tags": []
   },
   "outputs": [
    {
     "data": {
      "image/png": "[encoded data removed]",
      "text/plain": [
       "<Figure size 1500x1000 with 1 Axes>"
      ]
     },
     "metadata": {},
     "output_type": "display_data"
    }
   ],
   "source": [
    "plt.figure(figsize = (15, 10))\n",
    "plt.title('Number of Flights Per Day')\n",
    "ax=sns.countplot(x = 'Date_of_Journey', data =train_data)\n",
    "plt.xlabel('Date of Journey')\n",
    "plt.ylabel('Count of flights')\n",
    "plt.xticks(rotation = 90)\n",
    "for p in ax.patches:\n",
    "    ax.annotate(int(p.get_height()), (p.get_x()+0.25, p.get_height()+1), va='bottom',\n",
    "                    color= 'black')\n"
   ]
  },
  {
   "cell_type": "markdown",
   "id": "4f61d9e8",
   "metadata": {
    "papermill": {
     "duration": 0.015425,
     "end_time": "2025-03-15T13:20:07.827974",
     "exception": false,
     "start_time": "2025-03-15T13:20:07.812549",
     "status": "completed"
    },
    "tags": []
   },
   "source": [
    "# Normalizing number of stops "
   ]
  },
  {
   "cell_type": "code",
   "execution_count": 20,
   "id": "cf5563b5",
   "metadata": {
    "execution": {
     "iopub.execute_input": "2025-03-15T13:20:07.862033Z",
     "iopub.status.busy": "2025-03-15T13:20:07.861544Z",
     "iopub.status.idle": "2025-03-15T13:20:08.596117Z",
     "shell.execute_reply": "2025-03-15T13:20:08.594792Z"
    },
    "papermill": {
     "duration": 0.754942,
     "end_time": "2025-03-15T13:20:08.598412",
     "exception": false,
     "start_time": "2025-03-15T13:20:07.843470",
     "status": "completed"
    },
    "tags": []
   },
   "outputs": [
    {
     "name": "stderr",
     "output_type": "stream",
     "text": [
      "<ipython-input-20-f1f85ea771af>:24: FutureWarning: A value is trying to be set on a copy of a DataFrame or Series through chained assignment using an inplace method.\n",
      "The behavior will change in pandas 3.0. This inplace method will never work because the intermediate object on which we are setting values always behaves as a copy.\n",
      "\n",
      "For example, when doing 'df[col].method(value, inplace=True)', try using 'df.method({col: value}, inplace=True)' or df[col] = df[col].method(value) instead, to perform the operation inplace on the original object.\n",
      "\n",
      "\n",
      "  train_data[\"stop\"].fillna(train_data[\"stop\"].mode()[0], inplace=True)\n",
      "<ipython-input-20-f1f85ea771af>:27: FutureWarning: A value is trying to be set on a copy of a DataFrame or Series through chained assignment using an inplace method.\n",
      "The behavior will change in pandas 3.0. This inplace method will never work because the intermediate object on which we are setting values always behaves as a copy.\n",
      "\n",
      "For example, when doing 'df[col].method(value, inplace=True)', try using 'df.method({col: value}, inplace=True)' or df[col] = df[col].method(value) instead, to perform the operation inplace on the original object.\n",
      "\n",
      "\n",
      "  test_data[\"stop\"].fillna(test_data[\"stop\"].mode()[0], inplace=True)\n"
     ]
    },
    {
     "data": {
      "text/html": [
       "<div>\n",
       "<style scoped>\n",
       "    .dataframe tbody tr th:only-of-type {\n",
       "        vertical-align: middle;\n",
       "    }\n",
       "\n",
       "    .dataframe tbody tr th {\n",
       "        vertical-align: top;\n",
       "    }\n",
       "\n",
       "    .dataframe thead th {\n",
       "        text-align: right;\n",
       "    }\n",
       "</style>\n",
       "<table border=\"1\" class=\"dataframe\">\n",
       "  <thead>\n",
       "    <tr style=\"text-align: right;\">\n",
       "      <th></th>\n",
       "      <th>date</th>\n",
       "      <th>airline</th>\n",
       "      <th>dep_time</th>\n",
       "      <th>from</th>\n",
       "      <th>time_taken</th>\n",
       "      <th>stop</th>\n",
       "      <th>arr_time</th>\n",
       "      <th>to</th>\n",
       "      <th>price</th>\n",
       "      <th>Class</th>\n",
       "      <th>flight_code</th>\n",
       "    </tr>\n",
       "  </thead>\n",
       "  <tbody>\n",
       "    <tr>\n",
       "      <th>0</th>\n",
       "      <td>11-02-2022</td>\n",
       "      <td>SpiceJet</td>\n",
       "      <td>18:55</td>\n",
       "      <td>Delhi</td>\n",
       "      <td>130.0</td>\n",
       "      <td>0.0</td>\n",
       "      <td>21:05</td>\n",
       "      <td>Mumbai</td>\n",
       "      <td>5,953</td>\n",
       "      <td>Economy</td>\n",
       "      <td>SG-8709</td>\n",
       "    </tr>\n",
       "    <tr>\n",
       "      <th>1</th>\n",
       "      <td>11-02-2022</td>\n",
       "      <td>SpiceJet</td>\n",
       "      <td>6:20</td>\n",
       "      <td>Delhi</td>\n",
       "      <td>140.0</td>\n",
       "      <td>0.0</td>\n",
       "      <td>8:40</td>\n",
       "      <td>Mumbai</td>\n",
       "      <td>5,953</td>\n",
       "      <td>Economy</td>\n",
       "      <td>SG-8157</td>\n",
       "    </tr>\n",
       "    <tr>\n",
       "      <th>2</th>\n",
       "      <td>11-02-2022</td>\n",
       "      <td>AirAsia</td>\n",
       "      <td>4:25</td>\n",
       "      <td>Delhi</td>\n",
       "      <td>130.0</td>\n",
       "      <td>0.0</td>\n",
       "      <td>6:35</td>\n",
       "      <td>Mumbai</td>\n",
       "      <td>5,956</td>\n",
       "      <td>Economy</td>\n",
       "      <td>I5-764</td>\n",
       "    </tr>\n",
       "    <tr>\n",
       "      <th>3</th>\n",
       "      <td>11-02-2022</td>\n",
       "      <td>Vistara</td>\n",
       "      <td>10:20</td>\n",
       "      <td>Delhi</td>\n",
       "      <td>135.0</td>\n",
       "      <td>0.0</td>\n",
       "      <td>12:35</td>\n",
       "      <td>Mumbai</td>\n",
       "      <td>5,955</td>\n",
       "      <td>Economy</td>\n",
       "      <td>UK-995</td>\n",
       "    </tr>\n",
       "    <tr>\n",
       "      <th>4</th>\n",
       "      <td>11-02-2022</td>\n",
       "      <td>Vistara</td>\n",
       "      <td>8:50</td>\n",
       "      <td>Delhi</td>\n",
       "      <td>140.0</td>\n",
       "      <td>0.0</td>\n",
       "      <td>11:10</td>\n",
       "      <td>Mumbai</td>\n",
       "      <td>5,955</td>\n",
       "      <td>Economy</td>\n",
       "      <td>UK-963</td>\n",
       "    </tr>\n",
       "  </tbody>\n",
       "</table>\n",
       "</div>"
      ],
      "text/plain": [
       "         date   airline dep_time   from  time_taken  stop arr_time      to  \\\n",
       "0  11-02-2022  SpiceJet    18:55  Delhi       130.0   0.0    21:05  Mumbai   \n",
       "1  11-02-2022  SpiceJet     6:20  Delhi       140.0   0.0     8:40  Mumbai   \n",
       "2  11-02-2022   AirAsia     4:25  Delhi       130.0   0.0     6:35  Mumbai   \n",
       "3  11-02-2022   Vistara    10:20  Delhi       135.0   0.0    12:35  Mumbai   \n",
       "4  11-02-2022   Vistara     8:50  Delhi       140.0   0.0    11:10  Mumbai   \n",
       "\n",
       "   price    Class flight_code  \n",
       "0  5,953  Economy     SG-8709  \n",
       "1  5,953  Economy     SG-8157  \n",
       "2  5,956  Economy      I5-764  \n",
       "3  5,955  Economy      UK-995  \n",
       "4  5,955  Economy      UK-963  "
      ]
     },
     "execution_count": 20,
     "metadata": {},
     "output_type": "execute_result"
    }
   ],
   "source": [
    "# Clean up spaces and newlines in test_data\n",
    "test_data[\"stop\"] = test_data[\"stop\"].astype(str).str.strip().str.replace(r'\\s+', ' ', regex=True)\n",
    "test_data[\"stop\"] = test_data[\"stop\"].astype(str).str.strip().str.replace(r'\\n+', ' ', regex=True)\n",
    "\n",
    "# Define a consistent mapping\n",
    "stop_mapping = {\n",
    "    \"non-stop\": 0,\n",
    "    \"1-stop\": 1,\n",
    "    \"2+-stops\": 2,\n",
    "    \"1-stop Via IXU\": 1,\n",
    "    \"1-stop Via IDR\": 1\n",
    "}\n",
    "\n",
    "# Apply mapping safely, keeping NaNs for unknown values\n",
    "train_data.loc[:, \"stop\"] = train_data[\"stop\"].map(stop_mapping)\n",
    "test_data.loc[:, \"stop\"] = test_data[\"stop\"].map(stop_mapping)\n",
    "\n",
    "# Convert 'stop' to numeric explicitly (handles NaNs)\n",
    "train_data[\"stop\"] = pd.to_numeric(train_data[\"stop\"], errors=\"coerce\")\n",
    "test_data[\"stop\"] = pd.to_numeric(test_data[\"stop\"], errors=\"coerce\")\n",
    "\n",
    "# Handle missing values (Check if mode exists first)\n",
    "if not train_data[\"stop\"].mode().empty:\n",
    "    train_data[\"stop\"].fillna(train_data[\"stop\"].mode()[0], inplace=True)\n",
    "\n",
    "if not test_data[\"stop\"].mode().empty:\n",
    "    test_data[\"stop\"].fillna(test_data[\"stop\"].mode()[0], inplace=True)\n",
    "\n",
    "\n",
    "# Display first few rows\n",
    "test_data.head()"
   ]
  },
  {
   "cell_type": "markdown",
   "id": "bac04efc",
   "metadata": {
    "papermill": {
     "duration": 0.016235,
     "end_time": "2025-03-15T13:20:08.630740",
     "exception": false,
     "start_time": "2025-03-15T13:20:08.614505",
     "status": "completed"
    },
    "tags": []
   },
   "source": [
    "# Number of flights per airline"
   ]
  },
  {
   "cell_type": "code",
   "execution_count": 21,
   "id": "42cd9dbf",
   "metadata": {
    "execution": {
     "iopub.execute_input": "2025-03-15T13:20:08.664641Z",
     "iopub.status.busy": "2025-03-15T13:20:08.664311Z",
     "iopub.status.idle": "2025-03-15T13:20:08.693359Z",
     "shell.execute_reply": "2025-03-15T13:20:08.692269Z"
    },
    "papermill": {
     "duration": 0.047993,
     "end_time": "2025-03-15T13:20:08.695203",
     "exception": false,
     "start_time": "2025-03-15T13:20:08.647210",
     "status": "completed"
    },
    "tags": []
   },
   "outputs": [
    {
     "data": {
      "text/plain": [
       "airline\n",
       "Vistara      127334\n",
       "Air India     79820\n",
       "Indigo        43240\n",
       "GO FIRST      23247\n",
       "AirAsia       16149\n",
       "SpiceJet       9034\n",
       "StarAir          61\n",
       "Trujet           41\n",
       "Name: count, dtype: int64"
      ]
     },
     "execution_count": 21,
     "metadata": {},
     "output_type": "execute_result"
    }
   ],
   "source": [
    "train_data[\"airline\"].value_counts()"
   ]
  },
  {
   "cell_type": "code",
   "execution_count": 22,
   "id": "51dc77f7",
   "metadata": {
    "execution": {
     "iopub.execute_input": "2025-03-15T13:20:08.788776Z",
     "iopub.status.busy": "2025-03-15T13:20:08.788246Z",
     "iopub.status.idle": "2025-03-15T13:20:09.297249Z",
     "shell.execute_reply": "2025-03-15T13:20:09.296034Z"
    },
    "papermill": {
     "duration": 0.528995,
     "end_time": "2025-03-15T13:20:09.299369",
     "exception": false,
     "start_time": "2025-03-15T13:20:08.770374",
     "status": "completed"
    },
    "tags": []
   },
   "outputs": [
    {
     "data": {
      "image/png": "[encoded data removed]",
      "text/plain": [
       "<Figure size 1500x1000 with 1 Axes>"
      ]
     },
     "metadata": {},
     "output_type": "display_data"
    }
   ],
   "source": [
    "plt.figure(figsize = (15, 10))\n",
    "plt.title('Count of flights with different Airlines')\n",
    "ax=sns.countplot(x = 'airline', data =train_data)\n",
    "plt.xlabel('Airline')\n",
    "plt.ylabel('Count of flights')\n",
    "plt.xticks(rotation = 90)\n",
    "for p in ax.patches:\n",
    "    ax.annotate(int(p.get_height()), (p.get_x()+0.25, p.get_height()+1), va='bottom',\n",
    "                    color= 'black')"
   ]
  },
  {
   "cell_type": "code",
   "execution_count": 23,
   "id": "269276dc",
   "metadata": {
    "execution": {
     "iopub.execute_input": "2025-03-15T13:20:09.334351Z",
     "iopub.status.busy": "2025-03-15T13:20:09.334021Z",
     "iopub.status.idle": "2025-03-15T13:20:09.357328Z",
     "shell.execute_reply": "2025-03-15T13:20:09.356232Z"
    },
    "papermill": {
     "duration": 0.043173,
     "end_time": "2025-03-15T13:20:09.359410",
     "exception": false,
     "start_time": "2025-03-15T13:20:09.316237",
     "status": "completed"
    },
    "tags": []
   },
   "outputs": [
    {
     "data": {
      "text/plain": [
       "airline\n",
       "Vistara      128271\n",
       "Air India     81110\n",
       "Indigo        43258\n",
       "GO FIRST      23258\n",
       "AirAsia       16154\n",
       "SpiceJet       9037\n",
       "StarAir          61\n",
       "Trujet           41\n",
       "Unknown           6\n",
       "Name: count, dtype: int64"
      ]
     },
     "execution_count": 23,
     "metadata": {},
     "output_type": "execute_result"
    }
   ],
   "source": [
    "test_data[\"airline\"].value_counts()"
   ]
  },
  {
   "cell_type": "code",
   "execution_count": 24,
   "id": "3da63c60",
   "metadata": {
    "execution": {
     "iopub.execute_input": "2025-03-15T13:20:09.396073Z",
     "iopub.status.busy": "2025-03-15T13:20:09.395639Z",
     "iopub.status.idle": "2025-03-15T13:20:09.926231Z",
     "shell.execute_reply": "2025-03-15T13:20:09.924881Z"
    },
    "papermill": {
     "duration": 0.551047,
     "end_time": "2025-03-15T13:20:09.928426",
     "exception": false,
     "start_time": "2025-03-15T13:20:09.377379",
     "status": "completed"
    },
    "tags": []
   },
   "outputs": [
    {
     "data": {
      "image/png": "[encoded data removed]",
      "text/plain": [
       "<Figure size 1500x1000 with 1 Axes>"
      ]
     },
     "metadata": {},
     "output_type": "display_data"
    }
   ],
   "source": [
    "plt.figure(figsize = (15, 10))\n",
    "plt.title('Count of flights with different Airlines')\n",
    "ax=sns.countplot(x = 'airline', data =test_data)\n",
    "plt.xlabel('Airline')\n",
    "plt.ylabel('Count of flights')\n",
    "plt.xticks(rotation = 90)\n",
    "for p in ax.patches:\n",
    "    ax.annotate(int(p.get_height()), (p.get_x()+0.25, p.get_height()+1), va='bottom',\n",
    "                    color= 'black')"
   ]
  },
  {
   "cell_type": "code",
   "execution_count": 25,
   "id": "aea0e0ba",
   "metadata": {
    "execution": {
     "iopub.execute_input": "2025-03-15T13:20:09.966045Z",
     "iopub.status.busy": "2025-03-15T13:20:09.965639Z",
     "iopub.status.idle": "2025-03-15T13:20:11.672699Z",
     "shell.execute_reply": "2025-03-15T13:20:11.671439Z"
    },
    "papermill": {
     "duration": 1.72802,
     "end_time": "2025-03-15T13:20:11.674709",
     "exception": false,
     "start_time": "2025-03-15T13:20:09.946689",
     "status": "completed"
    },
    "tags": []
   },
   "outputs": [
    {
     "data": {
      "text/plain": [
       "([0, 1, 2, 3, 4, 5, 6, 7],\n",
       " [Text(0, 0, 'SpiceJet'),\n",
       "  Text(1, 0, 'AirAsia'),\n",
       "  Text(2, 0, 'Vistara'),\n",
       "  Text(3, 0, 'GO FIRST'),\n",
       "  Text(4, 0, 'Indigo'),\n",
       "  Text(5, 0, 'Air India'),\n",
       "  Text(6, 0, 'Trujet'),\n",
       "  Text(7, 0, 'StarAir')])"
      ]
     },
     "execution_count": 25,
     "metadata": {},
     "output_type": "execute_result"
    },
    {
     "data": {
      "image/png": "[encoded data removed]",
      "text/plain": [
       "<Figure size 1500x1000 with 1 Axes>"
      ]
     },
     "metadata": {},
     "output_type": "display_data"
    }
   ],
   "source": [
    "plt.figure(figsize = (15, 10))\n",
    "plt.title('Price VS Airlines')\n",
    "plt.scatter(train_data['airline'], train_data['price'])\n",
    "plt.xticks(rotation = 90)\n",
    "plt.xlabel('Airline')\n",
    "plt.ylabel('Price of ticket')\n",
    "plt.xticks(rotation = 90)"
   ]
  },
  {
   "cell_type": "markdown",
   "id": "4ee1a3a0",
   "metadata": {
    "papermill": {
     "duration": 0.020615,
     "end_time": "2025-03-15T13:20:11.716128",
     "exception": false,
     "start_time": "2025-03-15T13:20:11.695513",
     "status": "completed"
    },
    "tags": []
   },
   "source": [
    "# Combining \"Truejet\",\"StarAir\",\"Unknown\"into the same class \"Other\""
   ]
  },
  {
   "cell_type": "code",
   "execution_count": 26,
   "id": "f52fafb0",
   "metadata": {
    "execution": {
     "iopub.execute_input": "2025-03-15T13:20:11.756413Z",
     "iopub.status.busy": "2025-03-15T13:20:11.755843Z",
     "iopub.status.idle": "2025-03-15T13:20:11.843679Z",
     "shell.execute_reply": "2025-03-15T13:20:11.842396Z"
    },
    "papermill": {
     "duration": 0.110281,
     "end_time": "2025-03-15T13:20:11.845976",
     "exception": false,
     "start_time": "2025-03-15T13:20:11.735695",
     "status": "completed"
    },
    "tags": []
   },
   "outputs": [
    {
     "name": "stderr",
     "output_type": "stream",
     "text": [
      "<ipython-input-26-5631fd30c1ef>:2: FutureWarning: A value is trying to be set on a copy of a DataFrame or Series through chained assignment using an inplace method.\n",
      "The behavior will change in pandas 3.0. This inplace method will never work because the intermediate object on which we are setting values always behaves as a copy.\n",
      "\n",
      "For example, when doing 'df[col].method(value, inplace=True)', try using 'df.method({col: value}, inplace=True)' or df[col] = df[col].method(value) instead, to perform the operation inplace on the original object.\n",
      "\n",
      "\n",
      "  train_data[\"airline\"].replace({'Trujet':'Other','StarAir':'Other'}, inplace=True)\n",
      "<ipython-input-26-5631fd30c1ef>:4: FutureWarning: A value is trying to be set on a copy of a DataFrame or Series through chained assignment using an inplace method.\n",
      "The behavior will change in pandas 3.0. This inplace method will never work because the intermediate object on which we are setting values always behaves as a copy.\n",
      "\n",
      "For example, when doing 'df[col].method(value, inplace=True)', try using 'df.method({col: value}, inplace=True)' or df[col] = df[col].method(value) instead, to perform the operation inplace on the original object.\n",
      "\n",
      "\n",
      "  test_data[\"airline\"].replace({'Trujet':'Other','StarAir':'Other','Unknown':'Other'},inplace=True)\n"
     ]
    }
   ],
   "source": [
    "# Airline\n",
    "train_data[\"airline\"].replace({'Trujet':'Other','StarAir':'Other'}, inplace=True)\n",
    "\n",
    "test_data[\"airline\"].replace({'Trujet':'Other','StarAir':'Other','Unknown':'Other'},inplace=True)"
   ]
  },
  {
   "cell_type": "code",
   "execution_count": 27,
   "id": "3a932c97",
   "metadata": {
    "execution": {
     "iopub.execute_input": "2025-03-15T13:20:11.887442Z",
     "iopub.status.busy": "2025-03-15T13:20:11.887067Z",
     "iopub.status.idle": "2025-03-15T13:20:12.488900Z",
     "shell.execute_reply": "2025-03-15T13:20:12.487594Z"
    },
    "papermill": {
     "duration": 0.625149,
     "end_time": "2025-03-15T13:20:12.490920",
     "exception": false,
     "start_time": "2025-03-15T13:20:11.865771",
     "status": "completed"
    },
    "tags": []
   },
   "outputs": [
    {
     "data": {
      "image/png": "[encoded data removed]",
      "text/plain": [
       "<Figure size 1500x1000 with 1 Axes>"
      ]
     },
     "metadata": {},
     "output_type": "display_data"
    }
   ],
   "source": [
    "plt.figure(figsize = (15, 10))\n",
    "plt.title('Count of flights with different Airlines')\n",
    "ax=sns.countplot(x = 'airline', data =train_data)\n",
    "plt.xlabel('Airline')\n",
    "plt.ylabel('Count of flights')\n",
    "plt.xticks(rotation = 90)\n",
    "for p in ax.patches:\n",
    "    ax.annotate(int(p.get_height()), (p.get_x()+0.25, p.get_height()+1), va='bottom',\n",
    "                    color= 'black')"
   ]
  },
  {
   "cell_type": "code",
   "execution_count": 28,
   "id": "6b872def",
   "metadata": {
    "execution": {
     "iopub.execute_input": "2025-03-15T13:20:12.535565Z",
     "iopub.status.busy": "2025-03-15T13:20:12.535179Z",
     "iopub.status.idle": "2025-03-15T13:20:12.564228Z",
     "shell.execute_reply": "2025-03-15T13:20:12.562979Z"
    },
    "papermill": {
     "duration": 0.054532,
     "end_time": "2025-03-15T13:20:12.565952",
     "exception": false,
     "start_time": "2025-03-15T13:20:12.511420",
     "status": "completed"
    },
    "tags": []
   },
   "outputs": [
    {
     "data": {
      "text/plain": [
       "airline\n",
       "Vistara      127334\n",
       "Air India     79820\n",
       "Indigo        43240\n",
       "GO FIRST      23247\n",
       "AirAsia       16149\n",
       "SpiceJet       9034\n",
       "Other           102\n",
       "Name: count, dtype: int64"
      ]
     },
     "execution_count": 28,
     "metadata": {},
     "output_type": "execute_result"
    }
   ],
   "source": [
    "train_data[\"airline\"].value_counts()"
   ]
  },
  {
   "cell_type": "code",
   "execution_count": 29,
   "id": "3f34f9d3",
   "metadata": {
    "execution": {
     "iopub.execute_input": "2025-03-15T13:20:12.608259Z",
     "iopub.status.busy": "2025-03-15T13:20:12.607883Z",
     "iopub.status.idle": "2025-03-15T13:20:13.100872Z",
     "shell.execute_reply": "2025-03-15T13:20:13.099317Z"
    },
    "papermill": {
     "duration": 0.516663,
     "end_time": "2025-03-15T13:20:13.103185",
     "exception": false,
     "start_time": "2025-03-15T13:20:12.586522",
     "status": "completed"
    },
    "tags": []
   },
   "outputs": [
    {
     "data": {
      "image/png": "[encoded data removed]",
      "text/plain": [
       "<Figure size 1500x1000 with 1 Axes>"
      ]
     },
     "metadata": {},
     "output_type": "display_data"
    }
   ],
   "source": [
    "plt.figure(figsize = (15, 10))\n",
    "plt.title('Count of flights with different Airlines')\n",
    "ax=sns.countplot(x = 'airline', data =test_data)\n",
    "plt.xlabel('Airline')\n",
    "plt.ylabel('Count of flights')\n",
    "plt.xticks(rotation = 90)\n",
    "for p in ax.patches:\n",
    "    ax.annotate(int(p.get_height()), (p.get_x()+0.25, p.get_height()+1), va='bottom',\n",
    "                    color= 'black')"
   ]
  },
  {
   "cell_type": "code",
   "execution_count": 30,
   "id": "bf39ce70",
   "metadata": {
    "execution": {
     "iopub.execute_input": "2025-03-15T13:20:13.149140Z",
     "iopub.status.busy": "2025-03-15T13:20:13.148600Z",
     "iopub.status.idle": "2025-03-15T13:20:13.173167Z",
     "shell.execute_reply": "2025-03-15T13:20:13.171968Z"
    },
    "papermill": {
     "duration": 0.049438,
     "end_time": "2025-03-15T13:20:13.175350",
     "exception": false,
     "start_time": "2025-03-15T13:20:13.125912",
     "status": "completed"
    },
    "tags": []
   },
   "outputs": [
    {
     "data": {
      "text/plain": [
       "airline\n",
       "Vistara      128271\n",
       "Air India     81110\n",
       "Indigo        43258\n",
       "GO FIRST      23258\n",
       "AirAsia       16154\n",
       "SpiceJet       9037\n",
       "Other           108\n",
       "Name: count, dtype: int64"
      ]
     },
     "execution_count": 30,
     "metadata": {},
     "output_type": "execute_result"
    }
   ],
   "source": [
    "test_data[\"airline\"].value_counts()"
   ]
  },
  {
   "cell_type": "code",
   "execution_count": 31,
   "id": "cd27468d",
   "metadata": {
    "execution": {
     "iopub.execute_input": "2025-03-15T13:20:13.220243Z",
     "iopub.status.busy": "2025-03-15T13:20:13.219800Z",
     "iopub.status.idle": "2025-03-15T13:20:14.885590Z",
     "shell.execute_reply": "2025-03-15T13:20:14.884202Z"
    },
    "papermill": {
     "duration": 1.690491,
     "end_time": "2025-03-15T13:20:14.887571",
     "exception": false,
     "start_time": "2025-03-15T13:20:13.197080",
     "status": "completed"
    },
    "tags": []
   },
   "outputs": [
    {
     "data": {
      "text/plain": [
       "([0, 1, 2, 3, 4, 5, 6],\n",
       " [Text(0, 0, 'SpiceJet'),\n",
       "  Text(1, 0, 'AirAsia'),\n",
       "  Text(2, 0, 'Vistara'),\n",
       "  Text(3, 0, 'GO FIRST'),\n",
       "  Text(4, 0, 'Indigo'),\n",
       "  Text(5, 0, 'Air India'),\n",
       "  Text(6, 0, 'Other')])"
      ]
     },
     "execution_count": 31,
     "metadata": {},
     "output_type": "execute_result"
    },
    {
     "data": {
      "image/png": "[encoded data removed]",
      "text/plain": [
       "<Figure size 1500x1000 with 1 Axes>"
      ]
     },
     "metadata": {},
     "output_type": "display_data"
    }
   ],
   "source": [
    "plt.figure(figsize = (15, 10))\n",
    "plt.title('Price VS Airlines')\n",
    "plt.scatter(train_data['airline'], train_data['price'])\n",
    "plt.xticks(rotation = 90)\n",
    "plt.xlabel('Airline')\n",
    "plt.ylabel('Price of ticket')\n",
    "plt.xticks(rotation = 90)"
   ]
  },
  {
   "cell_type": "markdown",
   "id": "8c709128",
   "metadata": {
    "papermill": {
     "duration": 0.022495,
     "end_time": "2025-03-15T13:20:14.933253",
     "exception": false,
     "start_time": "2025-03-15T13:20:14.910758",
     "status": "completed"
    },
    "tags": []
   },
   "source": [
    "# FIXING COLUMN NAMES FOR BOTH TEST AND TRAIN"
   ]
  },
  {
   "cell_type": "code",
   "execution_count": 32,
   "id": "9d67d2a5",
   "metadata": {
    "execution": {
     "iopub.execute_input": "2025-03-15T13:20:14.981160Z",
     "iopub.status.busy": "2025-03-15T13:20:14.980799Z",
     "iopub.status.idle": "2025-03-15T13:20:14.986784Z",
     "shell.execute_reply": "2025-03-15T13:20:14.985637Z"
    },
    "papermill": {
     "duration": 0.031469,
     "end_time": "2025-03-15T13:20:14.988943",
     "exception": false,
     "start_time": "2025-03-15T13:20:14.957474",
     "status": "completed"
    },
    "tags": []
   },
   "outputs": [],
   "source": [
    "test_data.rename(columns={\n",
    "    \"from\": \"source_city\",\n",
    "    \"to\": \"destinate_city\",\n",
    "    \"dep_time\": \"dep_time_category\",\n",
    "    \"arr_time\": \"arr_time_category\"\n",
    "}, inplace=True)"
   ]
  },
  {
   "cell_type": "code",
   "execution_count": 33,
   "id": "8980354e",
   "metadata": {
    "execution": {
     "iopub.execute_input": "2025-03-15T13:20:15.035898Z",
     "iopub.status.busy": "2025-03-15T13:20:15.035461Z",
     "iopub.status.idle": "2025-03-15T13:20:15.053114Z",
     "shell.execute_reply": "2025-03-15T13:20:15.051998Z"
    },
    "papermill": {
     "duration": 0.043939,
     "end_time": "2025-03-15T13:20:15.055004",
     "exception": false,
     "start_time": "2025-03-15T13:20:15.011065",
     "status": "completed"
    },
    "tags": []
   },
   "outputs": [
    {
     "data": {
      "text/html": [
       "<div>\n",
       "<style scoped>\n",
       "    .dataframe tbody tr th:only-of-type {\n",
       "        vertical-align: middle;\n",
       "    }\n",
       "\n",
       "    .dataframe tbody tr th {\n",
       "        vertical-align: top;\n",
       "    }\n",
       "\n",
       "    .dataframe thead th {\n",
       "        text-align: right;\n",
       "    }\n",
       "</style>\n",
       "<table border=\"1\" class=\"dataframe\">\n",
       "  <thead>\n",
       "    <tr style=\"text-align: right;\">\n",
       "      <th></th>\n",
       "      <th>date</th>\n",
       "      <th>airline</th>\n",
       "      <th>dep_time_category</th>\n",
       "      <th>source_city</th>\n",
       "      <th>time_taken</th>\n",
       "      <th>stop</th>\n",
       "      <th>arr_time_category</th>\n",
       "      <th>destinate_city</th>\n",
       "      <th>price</th>\n",
       "      <th>Class</th>\n",
       "      <th>flight_code</th>\n",
       "    </tr>\n",
       "  </thead>\n",
       "  <tbody>\n",
       "    <tr>\n",
       "      <th>0</th>\n",
       "      <td>11-02-2022</td>\n",
       "      <td>SpiceJet</td>\n",
       "      <td>18:55</td>\n",
       "      <td>Delhi</td>\n",
       "      <td>130.0</td>\n",
       "      <td>0.0</td>\n",
       "      <td>21:05</td>\n",
       "      <td>Mumbai</td>\n",
       "      <td>5,953</td>\n",
       "      <td>Economy</td>\n",
       "      <td>SG-8709</td>\n",
       "    </tr>\n",
       "    <tr>\n",
       "      <th>1</th>\n",
       "      <td>11-02-2022</td>\n",
       "      <td>SpiceJet</td>\n",
       "      <td>6:20</td>\n",
       "      <td>Delhi</td>\n",
       "      <td>140.0</td>\n",
       "      <td>0.0</td>\n",
       "      <td>8:40</td>\n",
       "      <td>Mumbai</td>\n",
       "      <td>5,953</td>\n",
       "      <td>Economy</td>\n",
       "      <td>SG-8157</td>\n",
       "    </tr>\n",
       "    <tr>\n",
       "      <th>2</th>\n",
       "      <td>11-02-2022</td>\n",
       "      <td>AirAsia</td>\n",
       "      <td>4:25</td>\n",
       "      <td>Delhi</td>\n",
       "      <td>130.0</td>\n",
       "      <td>0.0</td>\n",
       "      <td>6:35</td>\n",
       "      <td>Mumbai</td>\n",
       "      <td>5,956</td>\n",
       "      <td>Economy</td>\n",
       "      <td>I5-764</td>\n",
       "    </tr>\n",
       "    <tr>\n",
       "      <th>3</th>\n",
       "      <td>11-02-2022</td>\n",
       "      <td>Vistara</td>\n",
       "      <td>10:20</td>\n",
       "      <td>Delhi</td>\n",
       "      <td>135.0</td>\n",
       "      <td>0.0</td>\n",
       "      <td>12:35</td>\n",
       "      <td>Mumbai</td>\n",
       "      <td>5,955</td>\n",
       "      <td>Economy</td>\n",
       "      <td>UK-995</td>\n",
       "    </tr>\n",
       "    <tr>\n",
       "      <th>4</th>\n",
       "      <td>11-02-2022</td>\n",
       "      <td>Vistara</td>\n",
       "      <td>8:50</td>\n",
       "      <td>Delhi</td>\n",
       "      <td>140.0</td>\n",
       "      <td>0.0</td>\n",
       "      <td>11:10</td>\n",
       "      <td>Mumbai</td>\n",
       "      <td>5,955</td>\n",
       "      <td>Economy</td>\n",
       "      <td>UK-963</td>\n",
       "    </tr>\n",
       "  </tbody>\n",
       "</table>\n",
       "</div>"
      ],
      "text/plain": [
       "         date   airline dep_time_category source_city  time_taken  stop  \\\n",
       "0  11-02-2022  SpiceJet             18:55       Delhi       130.0   0.0   \n",
       "1  11-02-2022  SpiceJet              6:20       Delhi       140.0   0.0   \n",
       "2  11-02-2022   AirAsia              4:25       Delhi       130.0   0.0   \n",
       "3  11-02-2022   Vistara             10:20       Delhi       135.0   0.0   \n",
       "4  11-02-2022   Vistara              8:50       Delhi       140.0   0.0   \n",
       "\n",
       "  arr_time_category destinate_city  price    Class flight_code  \n",
       "0             21:05         Mumbai  5,953  Economy     SG-8709  \n",
       "1              8:40         Mumbai  5,953  Economy     SG-8157  \n",
       "2              6:35         Mumbai  5,956  Economy      I5-764  \n",
       "3             12:35         Mumbai  5,955  Economy      UK-995  \n",
       "4             11:10         Mumbai  5,955  Economy      UK-963  "
      ]
     },
     "execution_count": 33,
     "metadata": {},
     "output_type": "execute_result"
    }
   ],
   "source": [
    "test_data.head()"
   ]
  },
  {
   "cell_type": "code",
   "execution_count": 34,
   "id": "1727d680",
   "metadata": {
    "execution": {
     "iopub.execute_input": "2025-03-15T13:20:15.103295Z",
     "iopub.status.busy": "2025-03-15T13:20:15.102954Z",
     "iopub.status.idle": "2025-03-15T13:20:15.119025Z",
     "shell.execute_reply": "2025-03-15T13:20:15.117818Z"
    },
    "papermill": {
     "duration": 0.041767,
     "end_time": "2025-03-15T13:20:15.121247",
     "exception": false,
     "start_time": "2025-03-15T13:20:15.079480",
     "status": "completed"
    },
    "tags": []
   },
   "outputs": [
    {
     "data": {
      "text/html": [
       "<div>\n",
       "<style scoped>\n",
       "    .dataframe tbody tr th:only-of-type {\n",
       "        vertical-align: middle;\n",
       "    }\n",
       "\n",
       "    .dataframe tbody tr th {\n",
       "        vertical-align: top;\n",
       "    }\n",
       "\n",
       "    .dataframe thead th {\n",
       "        text-align: right;\n",
       "    }\n",
       "</style>\n",
       "<table border=\"1\" class=\"dataframe\">\n",
       "  <thead>\n",
       "    <tr style=\"text-align: right;\">\n",
       "      <th></th>\n",
       "      <th>airline</th>\n",
       "      <th>flight_code</th>\n",
       "      <th>source_city</th>\n",
       "      <th>time_taken</th>\n",
       "      <th>stop</th>\n",
       "      <th>destinate_city</th>\n",
       "      <th>price</th>\n",
       "      <th>Class</th>\n",
       "      <th>Days_Left</th>\n",
       "      <th>dep_time_category</th>\n",
       "      <th>arr_time_category</th>\n",
       "      <th>Date_of_Journey</th>\n",
       "      <th>date</th>\n",
       "    </tr>\n",
       "  </thead>\n",
       "  <tbody>\n",
       "    <tr>\n",
       "      <th>0</th>\n",
       "      <td>SpiceJet</td>\n",
       "      <td>SG-8709</td>\n",
       "      <td>Delhi</td>\n",
       "      <td>130</td>\n",
       "      <td>0.0</td>\n",
       "      <td>Mumbai</td>\n",
       "      <td>5953</td>\n",
       "      <td>Economy</td>\n",
       "      <td>1</td>\n",
       "      <td>Evening</td>\n",
       "      <td>Night</td>\n",
       "      <td>2022-02-11</td>\n",
       "      <td>11-02-2022</td>\n",
       "    </tr>\n",
       "    <tr>\n",
       "      <th>1</th>\n",
       "      <td>SpiceJet</td>\n",
       "      <td>SG-8157</td>\n",
       "      <td>Delhi</td>\n",
       "      <td>140</td>\n",
       "      <td>0.0</td>\n",
       "      <td>Mumbai</td>\n",
       "      <td>5953</td>\n",
       "      <td>Economy</td>\n",
       "      <td>1</td>\n",
       "      <td>Early Morning</td>\n",
       "      <td>Morning</td>\n",
       "      <td>2022-02-11</td>\n",
       "      <td>11-02-2022</td>\n",
       "    </tr>\n",
       "    <tr>\n",
       "      <th>2</th>\n",
       "      <td>AirAsia</td>\n",
       "      <td>I5-764</td>\n",
       "      <td>Delhi</td>\n",
       "      <td>130</td>\n",
       "      <td>0.0</td>\n",
       "      <td>Mumbai</td>\n",
       "      <td>5956</td>\n",
       "      <td>Economy</td>\n",
       "      <td>1</td>\n",
       "      <td>Early Morning</td>\n",
       "      <td>Early Morning</td>\n",
       "      <td>2022-02-11</td>\n",
       "      <td>11-02-2022</td>\n",
       "    </tr>\n",
       "    <tr>\n",
       "      <th>3</th>\n",
       "      <td>Vistara</td>\n",
       "      <td>UK-995</td>\n",
       "      <td>Delhi</td>\n",
       "      <td>135</td>\n",
       "      <td>0.0</td>\n",
       "      <td>Mumbai</td>\n",
       "      <td>5955</td>\n",
       "      <td>Economy</td>\n",
       "      <td>1</td>\n",
       "      <td>Morning</td>\n",
       "      <td>Afternoon</td>\n",
       "      <td>2022-02-11</td>\n",
       "      <td>11-02-2022</td>\n",
       "    </tr>\n",
       "    <tr>\n",
       "      <th>4</th>\n",
       "      <td>Vistara</td>\n",
       "      <td>UK-963</td>\n",
       "      <td>Delhi</td>\n",
       "      <td>140</td>\n",
       "      <td>0.0</td>\n",
       "      <td>Mumbai</td>\n",
       "      <td>5955</td>\n",
       "      <td>Economy</td>\n",
       "      <td>1</td>\n",
       "      <td>Morning</td>\n",
       "      <td>Morning</td>\n",
       "      <td>2022-02-11</td>\n",
       "      <td>11-02-2022</td>\n",
       "    </tr>\n",
       "  </tbody>\n",
       "</table>\n",
       "</div>"
      ],
      "text/plain": [
       "    airline flight_code source_city  time_taken  stop destinate_city  price  \\\n",
       "0  SpiceJet     SG-8709       Delhi         130   0.0         Mumbai   5953   \n",
       "1  SpiceJet     SG-8157       Delhi         140   0.0         Mumbai   5953   \n",
       "2   AirAsia      I5-764       Delhi         130   0.0         Mumbai   5956   \n",
       "3   Vistara      UK-995       Delhi         135   0.0         Mumbai   5955   \n",
       "4   Vistara      UK-963       Delhi         140   0.0         Mumbai   5955   \n",
       "\n",
       "     Class  Days_Left dep_time_category arr_time_category Date_of_Journey  \\\n",
       "0  Economy          1           Evening             Night      2022-02-11   \n",
       "1  Economy          1     Early Morning           Morning      2022-02-11   \n",
       "2  Economy          1     Early Morning     Early Morning      2022-02-11   \n",
       "3  Economy          1           Morning         Afternoon      2022-02-11   \n",
       "4  Economy          1           Morning           Morning      2022-02-11   \n",
       "\n",
       "         date  \n",
       "0  11-02-2022  \n",
       "1  11-02-2022  \n",
       "2  11-02-2022  \n",
       "3  11-02-2022  \n",
       "4  11-02-2022  "
      ]
     },
     "execution_count": 34,
     "metadata": {},
     "output_type": "execute_result"
    }
   ],
   "source": [
    "train_data.head()"
   ]
  },
  {
   "cell_type": "markdown",
   "id": "3059314d",
   "metadata": {
    "papermill": {
     "duration": 0.02351,
     "end_time": "2025-03-15T13:20:15.170566",
     "exception": false,
     "start_time": "2025-03-15T13:20:15.147056",
     "status": "completed"
    },
    "tags": []
   },
   "source": [
    "# Dropping unnecessary classes before Machine Learning"
   ]
  },
  {
   "cell_type": "code",
   "execution_count": 35,
   "id": "5410c47f",
   "metadata": {
    "execution": {
     "iopub.execute_input": "2025-03-15T13:20:15.220978Z",
     "iopub.status.busy": "2025-03-15T13:20:15.220525Z",
     "iopub.status.idle": "2025-03-15T13:20:15.253279Z",
     "shell.execute_reply": "2025-03-15T13:20:15.251754Z"
    },
    "papermill": {
     "duration": 0.061068,
     "end_time": "2025-03-15T13:20:15.255917",
     "exception": false,
     "start_time": "2025-03-15T13:20:15.194849",
     "status": "completed"
    },
    "tags": []
   },
   "outputs": [
    {
     "data": {
      "text/html": [
       "<div>\n",
       "<style scoped>\n",
       "    .dataframe tbody tr th:only-of-type {\n",
       "        vertical-align: middle;\n",
       "    }\n",
       "\n",
       "    .dataframe tbody tr th {\n",
       "        vertical-align: top;\n",
       "    }\n",
       "\n",
       "    .dataframe thead th {\n",
       "        text-align: right;\n",
       "    }\n",
       "</style>\n",
       "<table border=\"1\" class=\"dataframe\">\n",
       "  <thead>\n",
       "    <tr style=\"text-align: right;\">\n",
       "      <th></th>\n",
       "      <th>airline</th>\n",
       "      <th>dep_time_category</th>\n",
       "      <th>source_city</th>\n",
       "      <th>time_taken</th>\n",
       "      <th>stop</th>\n",
       "      <th>arr_time_category</th>\n",
       "      <th>destinate_city</th>\n",
       "      <th>price</th>\n",
       "      <th>Class</th>\n",
       "    </tr>\n",
       "  </thead>\n",
       "  <tbody>\n",
       "    <tr>\n",
       "      <th>0</th>\n",
       "      <td>SpiceJet</td>\n",
       "      <td>18:55</td>\n",
       "      <td>Delhi</td>\n",
       "      <td>130.0</td>\n",
       "      <td>0.0</td>\n",
       "      <td>21:05</td>\n",
       "      <td>Mumbai</td>\n",
       "      <td>5,953</td>\n",
       "      <td>Economy</td>\n",
       "    </tr>\n",
       "    <tr>\n",
       "      <th>1</th>\n",
       "      <td>SpiceJet</td>\n",
       "      <td>6:20</td>\n",
       "      <td>Delhi</td>\n",
       "      <td>140.0</td>\n",
       "      <td>0.0</td>\n",
       "      <td>8:40</td>\n",
       "      <td>Mumbai</td>\n",
       "      <td>5,953</td>\n",
       "      <td>Economy</td>\n",
       "    </tr>\n",
       "    <tr>\n",
       "      <th>2</th>\n",
       "      <td>AirAsia</td>\n",
       "      <td>4:25</td>\n",
       "      <td>Delhi</td>\n",
       "      <td>130.0</td>\n",
       "      <td>0.0</td>\n",
       "      <td>6:35</td>\n",
       "      <td>Mumbai</td>\n",
       "      <td>5,956</td>\n",
       "      <td>Economy</td>\n",
       "    </tr>\n",
       "    <tr>\n",
       "      <th>3</th>\n",
       "      <td>Vistara</td>\n",
       "      <td>10:20</td>\n",
       "      <td>Delhi</td>\n",
       "      <td>135.0</td>\n",
       "      <td>0.0</td>\n",
       "      <td>12:35</td>\n",
       "      <td>Mumbai</td>\n",
       "      <td>5,955</td>\n",
       "      <td>Economy</td>\n",
       "    </tr>\n",
       "    <tr>\n",
       "      <th>4</th>\n",
       "      <td>Vistara</td>\n",
       "      <td>8:50</td>\n",
       "      <td>Delhi</td>\n",
       "      <td>140.0</td>\n",
       "      <td>0.0</td>\n",
       "      <td>11:10</td>\n",
       "      <td>Mumbai</td>\n",
       "      <td>5,955</td>\n",
       "      <td>Economy</td>\n",
       "    </tr>\n",
       "  </tbody>\n",
       "</table>\n",
       "</div>"
      ],
      "text/plain": [
       "    airline dep_time_category source_city  time_taken  stop arr_time_category  \\\n",
       "0  SpiceJet             18:55       Delhi       130.0   0.0             21:05   \n",
       "1  SpiceJet              6:20       Delhi       140.0   0.0              8:40   \n",
       "2   AirAsia              4:25       Delhi       130.0   0.0              6:35   \n",
       "3   Vistara             10:20       Delhi       135.0   0.0             12:35   \n",
       "4   Vistara              8:50       Delhi       140.0   0.0             11:10   \n",
       "\n",
       "  destinate_city  price    Class  \n",
       "0         Mumbai  5,953  Economy  \n",
       "1         Mumbai  5,953  Economy  \n",
       "2         Mumbai  5,956  Economy  \n",
       "3         Mumbai  5,955  Economy  \n",
       "4         Mumbai  5,955  Economy  "
      ]
     },
     "execution_count": 35,
     "metadata": {},
     "output_type": "execute_result"
    }
   ],
   "source": [
    "test_data.drop(columns=['Unnamed: 0', 'flight_code', 'date'], inplace=True, errors='ignore')\n",
    "test_data.head() "
   ]
  },
  {
   "cell_type": "code",
   "execution_count": 36,
   "id": "f1be6cc3",
   "metadata": {
    "execution": {
     "iopub.execute_input": "2025-03-15T13:20:15.304610Z",
     "iopub.status.busy": "2025-03-15T13:20:15.304268Z",
     "iopub.status.idle": "2025-03-15T13:20:15.361508Z",
     "shell.execute_reply": "2025-03-15T13:20:15.360215Z"
    },
    "papermill": {
     "duration": 0.085239,
     "end_time": "2025-03-15T13:20:15.364001",
     "exception": false,
     "start_time": "2025-03-15T13:20:15.278762",
     "status": "completed"
    },
    "tags": []
   },
   "outputs": [
    {
     "data": {
      "text/html": [
       "<div>\n",
       "<style scoped>\n",
       "    .dataframe tbody tr th:only-of-type {\n",
       "        vertical-align: middle;\n",
       "    }\n",
       "\n",
       "    .dataframe tbody tr th {\n",
       "        vertical-align: top;\n",
       "    }\n",
       "\n",
       "    .dataframe thead th {\n",
       "        text-align: right;\n",
       "    }\n",
       "</style>\n",
       "<table border=\"1\" class=\"dataframe\">\n",
       "  <thead>\n",
       "    <tr style=\"text-align: right;\">\n",
       "      <th></th>\n",
       "      <th>airline</th>\n",
       "      <th>source_city</th>\n",
       "      <th>time_taken</th>\n",
       "      <th>stop</th>\n",
       "      <th>destinate_city</th>\n",
       "      <th>price</th>\n",
       "      <th>Class</th>\n",
       "      <th>Days_Left</th>\n",
       "      <th>dep_time_category</th>\n",
       "      <th>arr_time_category</th>\n",
       "    </tr>\n",
       "  </thead>\n",
       "  <tbody>\n",
       "    <tr>\n",
       "      <th>0</th>\n",
       "      <td>SpiceJet</td>\n",
       "      <td>Delhi</td>\n",
       "      <td>130</td>\n",
       "      <td>0.0</td>\n",
       "      <td>Mumbai</td>\n",
       "      <td>5953</td>\n",
       "      <td>Economy</td>\n",
       "      <td>1</td>\n",
       "      <td>Evening</td>\n",
       "      <td>Night</td>\n",
       "    </tr>\n",
       "    <tr>\n",
       "      <th>1</th>\n",
       "      <td>SpiceJet</td>\n",
       "      <td>Delhi</td>\n",
       "      <td>140</td>\n",
       "      <td>0.0</td>\n",
       "      <td>Mumbai</td>\n",
       "      <td>5953</td>\n",
       "      <td>Economy</td>\n",
       "      <td>1</td>\n",
       "      <td>Early Morning</td>\n",
       "      <td>Morning</td>\n",
       "    </tr>\n",
       "    <tr>\n",
       "      <th>2</th>\n",
       "      <td>AirAsia</td>\n",
       "      <td>Delhi</td>\n",
       "      <td>130</td>\n",
       "      <td>0.0</td>\n",
       "      <td>Mumbai</td>\n",
       "      <td>5956</td>\n",
       "      <td>Economy</td>\n",
       "      <td>1</td>\n",
       "      <td>Early Morning</td>\n",
       "      <td>Early Morning</td>\n",
       "    </tr>\n",
       "    <tr>\n",
       "      <th>3</th>\n",
       "      <td>Vistara</td>\n",
       "      <td>Delhi</td>\n",
       "      <td>135</td>\n",
       "      <td>0.0</td>\n",
       "      <td>Mumbai</td>\n",
       "      <td>5955</td>\n",
       "      <td>Economy</td>\n",
       "      <td>1</td>\n",
       "      <td>Morning</td>\n",
       "      <td>Afternoon</td>\n",
       "    </tr>\n",
       "    <tr>\n",
       "      <th>4</th>\n",
       "      <td>Vistara</td>\n",
       "      <td>Delhi</td>\n",
       "      <td>140</td>\n",
       "      <td>0.0</td>\n",
       "      <td>Mumbai</td>\n",
       "      <td>5955</td>\n",
       "      <td>Economy</td>\n",
       "      <td>1</td>\n",
       "      <td>Morning</td>\n",
       "      <td>Morning</td>\n",
       "    </tr>\n",
       "  </tbody>\n",
       "</table>\n",
       "</div>"
      ],
      "text/plain": [
       "    airline source_city  time_taken  stop destinate_city  price    Class  \\\n",
       "0  SpiceJet       Delhi         130   0.0         Mumbai   5953  Economy   \n",
       "1  SpiceJet       Delhi         140   0.0         Mumbai   5953  Economy   \n",
       "2   AirAsia       Delhi         130   0.0         Mumbai   5956  Economy   \n",
       "3   Vistara       Delhi         135   0.0         Mumbai   5955  Economy   \n",
       "4   Vistara       Delhi         140   0.0         Mumbai   5955  Economy   \n",
       "\n",
       "   Days_Left dep_time_category arr_time_category  \n",
       "0          1           Evening             Night  \n",
       "1          1     Early Morning           Morning  \n",
       "2          1     Early Morning     Early Morning  \n",
       "3          1           Morning         Afternoon  \n",
       "4          1           Morning           Morning  "
      ]
     },
     "execution_count": 36,
     "metadata": {},
     "output_type": "execute_result"
    }
   ],
   "source": [
    "train_data.drop(columns=['Unnamed: 0', 'flight_code', 'Date_of_Journey','date'], inplace=True, errors='ignore')\n",
    "train_data.head()"
   ]
  },
  {
   "cell_type": "markdown",
   "id": "c0df5c62",
   "metadata": {
    "papermill": {
     "duration": 0.024725,
     "end_time": "2025-03-15T13:20:15.412249",
     "exception": false,
     "start_time": "2025-03-15T13:20:15.387524",
     "status": "completed"
    },
    "tags": []
   },
   "source": [
    "# Filling the missing values with median"
   ]
  },
  {
   "cell_type": "code",
   "execution_count": 37,
   "id": "e6cc30d3",
   "metadata": {
    "execution": {
     "iopub.execute_input": "2025-03-15T13:20:15.462392Z",
     "iopub.status.busy": "2025-03-15T13:20:15.462043Z",
     "iopub.status.idle": "2025-03-15T13:20:16.863857Z",
     "shell.execute_reply": "2025-03-15T13:20:16.862645Z"
    },
    "papermill": {
     "duration": 1.430305,
     "end_time": "2025-03-15T13:20:16.866837",
     "exception": false,
     "start_time": "2025-03-15T13:20:15.436532",
     "status": "completed"
    },
    "tags": []
   },
   "outputs": [
    {
     "name": "stdout",
     "output_type": "stream",
     "text": [
      "Missing values in train_data (price): 0\n",
      "Missing values in test_data (price): 0\n",
      "Missing values in train_data (time_taken): 0\n",
      "Missing values in test_data (time_taken): 0\n",
      "Data cleaning completed successfully!\n"
     ]
    },
    {
     "name": "stderr",
     "output_type": "stream",
     "text": [
      "<ipython-input-37-2fe50dcdef89>:12: FutureWarning: Downcasting object dtype arrays on .fillna, .ffill, .bfill is deprecated and will change in a future version. Call result.infer_objects(copy=False) instead. To opt-in to the future behavior, set `pd.set_option('future.no_silent_downcasting', True)`\n",
      "  test_data.loc[:, \"price\"] = test_data[\"price\"].fillna(test_data[\"price\"].median()).astype(float)\n"
     ]
    }
   ],
   "source": [
    "# Replace 'Unknown' with NaN\n",
    "test_data.loc[:, \"price\"] = test_data[\"price\"].replace(\"Unknown\", np.nan)\n",
    "test_data.loc[:, \"time_taken\"] = test_data[\"time_taken\"].replace(\"Unknown\", np.nan)\n",
    "\n",
    "# Remove commas and convert to numeric\n",
    "train_data.loc[:, \"price\"] = pd.to_numeric(train_data[\"price\"].astype(str).str.replace(\",\", \"\"), errors='coerce')\n",
    "test_data.loc[:, \"price\"] = pd.to_numeric(test_data[\"price\"].astype(str).str.replace(\",\", \"\"), errors='coerce')\n",
    "train_data.loc[:, \"time_taken\"] = pd.to_numeric(train_data[\"time_taken\"].astype(str).str.replace(\",\", \"\"), errors='coerce')\n",
    "test_data.loc[:, \"time_taken\"] = pd.to_numeric(test_data[\"time_taken\"].astype(str).str.replace(\",\", \"\"), errors='coerce')\n",
    "\n",
    "# Fill missing values with median & explicitly convert back to float\n",
    "test_data.loc[:, \"price\"] = test_data[\"price\"].fillna(test_data[\"price\"].median()).astype(float)\n",
    "test_data.loc[:, \"time_taken\"] = test_data[\"time_taken\"].fillna(test_data[\"time_taken\"].median()).astype(float)\n",
    "\n",
    "# Final check\n",
    "print(\"Missing values in train_data (price):\", train_data[\"price\"].isnull().sum())\n",
    "print(\"Missing values in test_data (price):\", test_data[\"price\"].isnull().sum())\n",
    "\n",
    "print(\"Missing values in train_data (time_taken):\", train_data[\"time_taken\"].isnull().sum())\n",
    "print(\"Missing values in test_data (time_taken):\", test_data[\"time_taken\"].isnull().sum())\n",
    "\n",
    "print(\"Data cleaning completed successfully!\")"
   ]
  },
  {
   "cell_type": "code",
   "execution_count": 38,
   "id": "256cefa7",
   "metadata": {
    "execution": {
     "iopub.execute_input": "2025-03-15T13:20:16.920349Z",
     "iopub.status.busy": "2025-03-15T13:20:16.919997Z",
     "iopub.status.idle": "2025-03-15T13:20:16.925807Z",
     "shell.execute_reply": "2025-03-15T13:20:16.924293Z"
    },
    "papermill": {
     "duration": 0.036248,
     "end_time": "2025-03-15T13:20:16.928306",
     "exception": false,
     "start_time": "2025-03-15T13:20:16.892058",
     "status": "completed"
    },
    "tags": []
   },
   "outputs": [
    {
     "name": "stdout",
     "output_type": "stream",
     "text": [
      "int64\n",
      "float64\n"
     ]
    }
   ],
   "source": [
    "print(train_data[\"price\"].dtype)  # Should be float64 or int64\n",
    "print(test_data[\"time_taken\"].dtype)  # Should be float64 or int64"
   ]
  },
  {
   "cell_type": "markdown",
   "id": "b05a3037",
   "metadata": {
    "papermill": {
     "duration": 0.023654,
     "end_time": "2025-03-15T13:20:16.978085",
     "exception": false,
     "start_time": "2025-03-15T13:20:16.954431",
     "status": "completed"
    },
    "tags": []
   },
   "source": [
    "# Machine learning "
   ]
  },
  {
   "cell_type": "code",
   "execution_count": 39,
   "id": "9f0e8b4e",
   "metadata": {
    "execution": {
     "iopub.execute_input": "2025-03-15T13:20:17.029198Z",
     "iopub.status.busy": "2025-03-15T13:20:17.028743Z",
     "iopub.status.idle": "2025-03-15T13:20:17.057935Z",
     "shell.execute_reply": "2025-03-15T13:20:17.056901Z"
    },
    "papermill": {
     "duration": 0.057862,
     "end_time": "2025-03-15T13:20:17.060212",
     "exception": false,
     "start_time": "2025-03-15T13:20:17.002350",
     "status": "completed"
    },
    "tags": []
   },
   "outputs": [],
   "source": [
    "# Select features and target variable\n",
    "X = train_data.drop(columns=[\"price\"])  # Features\n",
    "y = train_data[\"price\"]  # Target variable"
   ]
  },
  {
   "cell_type": "code",
   "execution_count": 40,
   "id": "c886d037",
   "metadata": {
    "execution": {
     "iopub.execute_input": "2025-03-15T13:20:17.110074Z",
     "iopub.status.busy": "2025-03-15T13:20:17.109520Z",
     "iopub.status.idle": "2025-03-15T13:20:17.114424Z",
     "shell.execute_reply": "2025-03-15T13:20:17.113070Z"
    },
    "papermill": {
     "duration": 0.032421,
     "end_time": "2025-03-15T13:20:17.116591",
     "exception": false,
     "start_time": "2025-03-15T13:20:17.084170",
     "status": "completed"
    },
    "tags": []
   },
   "outputs": [],
   "source": [
    "test_data_original=test_data"
   ]
  },
  {
   "cell_type": "code",
   "execution_count": 41,
   "id": "977d6650",
   "metadata": {
    "execution": {
     "iopub.execute_input": "2025-03-15T13:20:17.166406Z",
     "iopub.status.busy": "2025-03-15T13:20:17.166014Z",
     "iopub.status.idle": "2025-03-15T13:20:17.771481Z",
     "shell.execute_reply": "2025-03-15T13:20:17.770279Z"
    },
    "papermill": {
     "duration": 0.632425,
     "end_time": "2025-03-15T13:20:17.773640",
     "exception": false,
     "start_time": "2025-03-15T13:20:17.141215",
     "status": "completed"
    },
    "tags": []
   },
   "outputs": [],
   "source": [
    "# One-Hot Encoding for categorical features\n",
    "X = pd.get_dummies(X, columns=[\"airline\", \"source_city\", \"destinate_city\", \"Class\", \"dep_time_category\", \"arr_time_category\"], drop_first=True)\n",
    "\n",
    "# Apply same transformation to test_data\n",
    "test_data = pd.get_dummies(test_data, columns=[\"airline\", \"source_city\", \"destinate_city\", \"Class\", \"dep_time_category\", \"arr_time_category\"], drop_first=True)\n",
    "\n",
    "# Ensure test_data has same features as X\n",
    "missing_cols = set(X.columns) - set(test_data.columns)\n",
    "for col in missing_cols:\n",
    "    test_data[col] = 0  # Add missing columns\n",
    "\n",
    "test_data = test_data[X.columns]  # Ensure column order matches"
   ]
  },
  {
   "cell_type": "code",
   "execution_count": 42,
   "id": "a8960602",
   "metadata": {
    "execution": {
     "iopub.execute_input": "2025-03-15T13:20:17.820840Z",
     "iopub.status.busy": "2025-03-15T13:20:17.820429Z",
     "iopub.status.idle": "2025-03-15T13:20:18.221218Z",
     "shell.execute_reply": "2025-03-15T13:20:18.220020Z"
    },
    "papermill": {
     "duration": 0.426806,
     "end_time": "2025-03-15T13:20:18.223254",
     "exception": false,
     "start_time": "2025-03-15T13:20:17.796448",
     "status": "completed"
    },
    "tags": []
   },
   "outputs": [],
   "source": [
    " from sklearn.model_selection import train_test_split\n",
    "\n",
    "# 80% training, 20% validation\n",
    "X_train, X_valid, y_train, y_valid = train_test_split(X, y, test_size=0.2, random_state=42)"
   ]
  },
  {
   "cell_type": "code",
   "execution_count": 43,
   "id": "1fe8f4d2",
   "metadata": {
    "execution": {
     "iopub.execute_input": "2025-03-15T13:20:18.275035Z",
     "iopub.status.busy": "2025-03-15T13:20:18.274598Z",
     "iopub.status.idle": "2025-03-15T13:20:19.007519Z",
     "shell.execute_reply": "2025-03-15T13:20:19.006260Z"
    },
    "papermill": {
     "duration": 0.761634,
     "end_time": "2025-03-15T13:20:19.009550",
     "exception": false,
     "start_time": "2025-03-15T13:20:18.247916",
     "status": "completed"
    },
    "tags": []
   },
   "outputs": [
    {
     "name": "stdout",
     "output_type": "stream",
     "text": [
      "MAE: 4576.5872690981\n",
      "RMSE: 6698.4552927679015\n",
      "R^2 Score: 0.9124562384395242\n"
     ]
    }
   ],
   "source": [
    "from sklearn.linear_model import LinearRegression\n",
    "from sklearn.metrics import mean_absolute_error, mean_squared_error, r2_score\n",
    "\n",
    "# Train model\n",
    "model = LinearRegression()\n",
    "model.fit(X_train, y_train)\n",
    "\n",
    "# Predict on validation set\n",
    "y_pred = model.predict(X_valid)\n",
    "\n",
    "# Evaluate model performance\n",
    "print(\"MAE:\", mean_absolute_error(y_valid, y_pred))\n",
    "print(\"RMSE:\", mean_squared_error(y_valid, y_pred, squared=False))\n",
    "print(\"R^2 Score:\", r2_score(y_valid, y_pred))"
   ]
  },
  {
   "cell_type": "code",
   "execution_count": 44,
   "id": "84ba4db7",
   "metadata": {
    "execution": {
     "iopub.execute_input": "2025-03-15T13:20:19.059067Z",
     "iopub.status.busy": "2025-03-15T13:20:19.058532Z",
     "iopub.status.idle": "2025-03-15T13:22:10.822723Z",
     "shell.execute_reply": "2025-03-15T13:22:10.821552Z"
    },
    "papermill": {
     "duration": 111.815249,
     "end_time": "2025-03-15T13:22:10.849052",
     "exception": false,
     "start_time": "2025-03-15T13:20:19.033803",
     "status": "completed"
    },
    "tags": []
   },
   "outputs": [
    {
     "name": "stdout",
     "output_type": "stream",
     "text": [
      "RF MAE: 1103.6308199561843\n",
      "RF RMSE: 2789.452417291469\n",
      "RF R² Score: 0.9848185311693618\n"
     ]
    }
   ],
   "source": [
    "from sklearn.ensemble import RandomForestRegressor\n",
    "\n",
    "# Train Random Forest Model\n",
    "rf_model = RandomForestRegressor(n_estimators=100, random_state=42)\n",
    "rf_model.fit(X_train, y_train)\n",
    "\n",
    "# Predict & Evaluate\n",
    "y_rf_pred = rf_model.predict(X_valid)\n",
    "print(\"RF MAE:\", mean_absolute_error(y_valid, y_rf_pred))\n",
    "print(\"RF RMSE:\", mean_squared_error(y_valid, y_rf_pred, squared=False))\n",
    "print(\"RF R² Score:\", r2_score(y_valid, y_rf_pred))"
   ]
  },
  {
   "cell_type": "code",
   "execution_count": 45,
   "id": "2912c06e",
   "metadata": {
    "execution": {
     "iopub.execute_input": "2025-03-15T13:22:10.897866Z",
     "iopub.status.busy": "2025-03-15T13:22:10.897393Z",
     "iopub.status.idle": "2025-03-15T13:22:13.513130Z",
     "shell.execute_reply": "2025-03-15T13:22:13.511834Z"
    },
    "papermill": {
     "duration": 2.642764,
     "end_time": "2025-03-15T13:22:13.515291",
     "exception": false,
     "start_time": "2025-03-15T13:22:10.872527",
     "status": "completed"
    },
    "tags": []
   },
   "outputs": [
    {
     "name": "stdout",
     "output_type": "stream",
     "text": [
      "Predictions saved successfully! \n"
     ]
    }
   ],
   "source": [
    "test_predictions = rf_model.predict(test_data)\n",
    "\n",
    "# Save predictions\n",
    "test_data[\"predicted_price\"] = test_predictions\n",
    "test_data[[\"predicted_price\"]].to_csv(\"predicted_prices.csv\", index=False)\n",
    "\n",
    "print(\"Predictions saved successfully! \")"
   ]
  },
  {
   "cell_type": "code",
   "execution_count": 46,
   "id": "b239e4c0",
   "metadata": {
    "execution": {
     "iopub.execute_input": "2025-03-15T13:22:13.566492Z",
     "iopub.status.busy": "2025-03-15T13:22:13.566125Z",
     "iopub.status.idle": "2025-03-15T13:22:13.580309Z",
     "shell.execute_reply": "2025-03-15T13:22:13.579083Z"
    },
    "papermill": {
     "duration": 0.040869,
     "end_time": "2025-03-15T13:22:13.582184",
     "exception": false,
     "start_time": "2025-03-15T13:22:13.541315",
     "status": "completed"
    },
    "tags": []
   },
   "outputs": [
    {
     "data": {
      "text/html": [
       "<div>\n",
       "<style scoped>\n",
       "    .dataframe tbody tr th:only-of-type {\n",
       "        vertical-align: middle;\n",
       "    }\n",
       "\n",
       "    .dataframe tbody tr th {\n",
       "        vertical-align: top;\n",
       "    }\n",
       "\n",
       "    .dataframe thead th {\n",
       "        text-align: right;\n",
       "    }\n",
       "</style>\n",
       "<table border=\"1\" class=\"dataframe\">\n",
       "  <thead>\n",
       "    <tr style=\"text-align: right;\">\n",
       "      <th></th>\n",
       "      <th>airline</th>\n",
       "      <th>source_city</th>\n",
       "      <th>time_taken</th>\n",
       "      <th>stop</th>\n",
       "      <th>destinate_city</th>\n",
       "      <th>price</th>\n",
       "      <th>Class</th>\n",
       "      <th>Days_Left</th>\n",
       "      <th>dep_time_category</th>\n",
       "      <th>arr_time_category</th>\n",
       "    </tr>\n",
       "  </thead>\n",
       "  <tbody>\n",
       "    <tr>\n",
       "      <th>0</th>\n",
       "      <td>SpiceJet</td>\n",
       "      <td>Delhi</td>\n",
       "      <td>130</td>\n",
       "      <td>0.0</td>\n",
       "      <td>Mumbai</td>\n",
       "      <td>5953</td>\n",
       "      <td>Economy</td>\n",
       "      <td>1</td>\n",
       "      <td>Evening</td>\n",
       "      <td>Night</td>\n",
       "    </tr>\n",
       "    <tr>\n",
       "      <th>1</th>\n",
       "      <td>SpiceJet</td>\n",
       "      <td>Delhi</td>\n",
       "      <td>140</td>\n",
       "      <td>0.0</td>\n",
       "      <td>Mumbai</td>\n",
       "      <td>5953</td>\n",
       "      <td>Economy</td>\n",
       "      <td>1</td>\n",
       "      <td>Early Morning</td>\n",
       "      <td>Morning</td>\n",
       "    </tr>\n",
       "    <tr>\n",
       "      <th>2</th>\n",
       "      <td>AirAsia</td>\n",
       "      <td>Delhi</td>\n",
       "      <td>130</td>\n",
       "      <td>0.0</td>\n",
       "      <td>Mumbai</td>\n",
       "      <td>5956</td>\n",
       "      <td>Economy</td>\n",
       "      <td>1</td>\n",
       "      <td>Early Morning</td>\n",
       "      <td>Early Morning</td>\n",
       "    </tr>\n",
       "    <tr>\n",
       "      <th>3</th>\n",
       "      <td>Vistara</td>\n",
       "      <td>Delhi</td>\n",
       "      <td>135</td>\n",
       "      <td>0.0</td>\n",
       "      <td>Mumbai</td>\n",
       "      <td>5955</td>\n",
       "      <td>Economy</td>\n",
       "      <td>1</td>\n",
       "      <td>Morning</td>\n",
       "      <td>Afternoon</td>\n",
       "    </tr>\n",
       "    <tr>\n",
       "      <th>4</th>\n",
       "      <td>Vistara</td>\n",
       "      <td>Delhi</td>\n",
       "      <td>140</td>\n",
       "      <td>0.0</td>\n",
       "      <td>Mumbai</td>\n",
       "      <td>5955</td>\n",
       "      <td>Economy</td>\n",
       "      <td>1</td>\n",
       "      <td>Morning</td>\n",
       "      <td>Morning</td>\n",
       "    </tr>\n",
       "  </tbody>\n",
       "</table>\n",
       "</div>"
      ],
      "text/plain": [
       "    airline source_city  time_taken  stop destinate_city  price    Class  \\\n",
       "0  SpiceJet       Delhi         130   0.0         Mumbai   5953  Economy   \n",
       "1  SpiceJet       Delhi         140   0.0         Mumbai   5953  Economy   \n",
       "2   AirAsia       Delhi         130   0.0         Mumbai   5956  Economy   \n",
       "3   Vistara       Delhi         135   0.0         Mumbai   5955  Economy   \n",
       "4   Vistara       Delhi         140   0.0         Mumbai   5955  Economy   \n",
       "\n",
       "   Days_Left dep_time_category arr_time_category  \n",
       "0          1           Evening             Night  \n",
       "1          1     Early Morning           Morning  \n",
       "2          1     Early Morning     Early Morning  \n",
       "3          1           Morning         Afternoon  \n",
       "4          1           Morning           Morning  "
      ]
     },
     "execution_count": 46,
     "metadata": {},
     "output_type": "execute_result"
    }
   ],
   "source": [
    "train_data.head()"
   ]
  },
  {
   "cell_type": "code",
   "execution_count": 47,
   "id": "1a115779",
   "metadata": {
    "execution": {
     "iopub.execute_input": "2025-03-15T13:22:13.630827Z",
     "iopub.status.busy": "2025-03-15T13:22:13.630410Z",
     "iopub.status.idle": "2025-03-15T13:22:13.655024Z",
     "shell.execute_reply": "2025-03-15T13:22:13.654000Z"
    },
    "papermill": {
     "duration": 0.051185,
     "end_time": "2025-03-15T13:22:13.656996",
     "exception": false,
     "start_time": "2025-03-15T13:22:13.605811",
     "status": "completed"
    },
    "tags": []
   },
   "outputs": [
    {
     "data": {
      "text/html": [
       "<div>\n",
       "<style scoped>\n",
       "    .dataframe tbody tr th:only-of-type {\n",
       "        vertical-align: middle;\n",
       "    }\n",
       "\n",
       "    .dataframe tbody tr th {\n",
       "        vertical-align: top;\n",
       "    }\n",
       "\n",
       "    .dataframe thead th {\n",
       "        text-align: right;\n",
       "    }\n",
       "</style>\n",
       "<table border=\"1\" class=\"dataframe\">\n",
       "  <thead>\n",
       "    <tr style=\"text-align: right;\">\n",
       "      <th></th>\n",
       "      <th>time_taken</th>\n",
       "      <th>stop</th>\n",
       "      <th>Days_Left</th>\n",
       "      <th>airline_AirAsia</th>\n",
       "      <th>airline_GO FIRST</th>\n",
       "      <th>airline_Indigo</th>\n",
       "      <th>airline_Other</th>\n",
       "      <th>airline_SpiceJet</th>\n",
       "      <th>airline_Vistara</th>\n",
       "      <th>source_city_Chennai</th>\n",
       "      <th>...</th>\n",
       "      <th>Class_Economy</th>\n",
       "      <th>dep_time_category_Early Morning</th>\n",
       "      <th>dep_time_category_Evening</th>\n",
       "      <th>dep_time_category_Morning</th>\n",
       "      <th>dep_time_category_Night</th>\n",
       "      <th>arr_time_category_Early Morning</th>\n",
       "      <th>arr_time_category_Evening</th>\n",
       "      <th>arr_time_category_Morning</th>\n",
       "      <th>arr_time_category_Night</th>\n",
       "      <th>predicted_price</th>\n",
       "    </tr>\n",
       "  </thead>\n",
       "  <tbody>\n",
       "    <tr>\n",
       "      <th>0</th>\n",
       "      <td>130.0</td>\n",
       "      <td>0.0</td>\n",
       "      <td>0</td>\n",
       "      <td>False</td>\n",
       "      <td>False</td>\n",
       "      <td>False</td>\n",
       "      <td>False</td>\n",
       "      <td>True</td>\n",
       "      <td>False</td>\n",
       "      <td>False</td>\n",
       "      <td>...</td>\n",
       "      <td>True</td>\n",
       "      <td>0</td>\n",
       "      <td>0</td>\n",
       "      <td>0</td>\n",
       "      <td>0</td>\n",
       "      <td>0</td>\n",
       "      <td>0</td>\n",
       "      <td>0</td>\n",
       "      <td>0</td>\n",
       "      <td>6447.980</td>\n",
       "    </tr>\n",
       "    <tr>\n",
       "      <th>1</th>\n",
       "      <td>140.0</td>\n",
       "      <td>0.0</td>\n",
       "      <td>0</td>\n",
       "      <td>False</td>\n",
       "      <td>False</td>\n",
       "      <td>False</td>\n",
       "      <td>False</td>\n",
       "      <td>True</td>\n",
       "      <td>False</td>\n",
       "      <td>False</td>\n",
       "      <td>...</td>\n",
       "      <td>True</td>\n",
       "      <td>0</td>\n",
       "      <td>0</td>\n",
       "      <td>0</td>\n",
       "      <td>0</td>\n",
       "      <td>0</td>\n",
       "      <td>0</td>\n",
       "      <td>0</td>\n",
       "      <td>0</td>\n",
       "      <td>6931.160</td>\n",
       "    </tr>\n",
       "    <tr>\n",
       "      <th>2</th>\n",
       "      <td>130.0</td>\n",
       "      <td>0.0</td>\n",
       "      <td>0</td>\n",
       "      <td>True</td>\n",
       "      <td>False</td>\n",
       "      <td>False</td>\n",
       "      <td>False</td>\n",
       "      <td>False</td>\n",
       "      <td>False</td>\n",
       "      <td>False</td>\n",
       "      <td>...</td>\n",
       "      <td>True</td>\n",
       "      <td>0</td>\n",
       "      <td>0</td>\n",
       "      <td>0</td>\n",
       "      <td>0</td>\n",
       "      <td>0</td>\n",
       "      <td>0</td>\n",
       "      <td>0</td>\n",
       "      <td>0</td>\n",
       "      <td>6369.370</td>\n",
       "    </tr>\n",
       "    <tr>\n",
       "      <th>3</th>\n",
       "      <td>135.0</td>\n",
       "      <td>0.0</td>\n",
       "      <td>0</td>\n",
       "      <td>False</td>\n",
       "      <td>False</td>\n",
       "      <td>False</td>\n",
       "      <td>False</td>\n",
       "      <td>False</td>\n",
       "      <td>True</td>\n",
       "      <td>False</td>\n",
       "      <td>...</td>\n",
       "      <td>True</td>\n",
       "      <td>0</td>\n",
       "      <td>0</td>\n",
       "      <td>0</td>\n",
       "      <td>0</td>\n",
       "      <td>0</td>\n",
       "      <td>0</td>\n",
       "      <td>0</td>\n",
       "      <td>0</td>\n",
       "      <td>6646.375</td>\n",
       "    </tr>\n",
       "    <tr>\n",
       "      <th>4</th>\n",
       "      <td>140.0</td>\n",
       "      <td>0.0</td>\n",
       "      <td>0</td>\n",
       "      <td>False</td>\n",
       "      <td>False</td>\n",
       "      <td>False</td>\n",
       "      <td>False</td>\n",
       "      <td>False</td>\n",
       "      <td>True</td>\n",
       "      <td>False</td>\n",
       "      <td>...</td>\n",
       "      <td>True</td>\n",
       "      <td>0</td>\n",
       "      <td>0</td>\n",
       "      <td>0</td>\n",
       "      <td>0</td>\n",
       "      <td>0</td>\n",
       "      <td>0</td>\n",
       "      <td>0</td>\n",
       "      <td>0</td>\n",
       "      <td>7030.205</td>\n",
       "    </tr>\n",
       "  </tbody>\n",
       "</table>\n",
       "<p>5 rows × 29 columns</p>\n",
       "</div>"
      ],
      "text/plain": [
       "   time_taken  stop  Days_Left  airline_AirAsia  airline_GO FIRST  \\\n",
       "0       130.0   0.0          0            False             False   \n",
       "1       140.0   0.0          0            False             False   \n",
       "2       130.0   0.0          0             True             False   \n",
       "3       135.0   0.0          0            False             False   \n",
       "4       140.0   0.0          0            False             False   \n",
       "\n",
       "   airline_Indigo  airline_Other  airline_SpiceJet  airline_Vistara  \\\n",
       "0           False          False              True            False   \n",
       "1           False          False              True            False   \n",
       "2           False          False             False            False   \n",
       "3           False          False             False             True   \n",
       "4           False          False             False             True   \n",
       "\n",
       "   source_city_Chennai  ...  Class_Economy  dep_time_category_Early Morning  \\\n",
       "0                False  ...           True                                0   \n",
       "1                False  ...           True                                0   \n",
       "2                False  ...           True                                0   \n",
       "3                False  ...           True                                0   \n",
       "4                False  ...           True                                0   \n",
       "\n",
       "   dep_time_category_Evening  dep_time_category_Morning  \\\n",
       "0                          0                          0   \n",
       "1                          0                          0   \n",
       "2                          0                          0   \n",
       "3                          0                          0   \n",
       "4                          0                          0   \n",
       "\n",
       "   dep_time_category_Night  arr_time_category_Early Morning  \\\n",
       "0                        0                                0   \n",
       "1                        0                                0   \n",
       "2                        0                                0   \n",
       "3                        0                                0   \n",
       "4                        0                                0   \n",
       "\n",
       "   arr_time_category_Evening  arr_time_category_Morning  \\\n",
       "0                          0                          0   \n",
       "1                          0                          0   \n",
       "2                          0                          0   \n",
       "3                          0                          0   \n",
       "4                          0                          0   \n",
       "\n",
       "   arr_time_category_Night  predicted_price  \n",
       "0                        0         6447.980  \n",
       "1                        0         6931.160  \n",
       "2                        0         6369.370  \n",
       "3                        0         6646.375  \n",
       "4                        0         7030.205  \n",
       "\n",
       "[5 rows x 29 columns]"
      ]
     },
     "execution_count": 47,
     "metadata": {},
     "output_type": "execute_result"
    }
   ],
   "source": [
    "test_data.head()\n"
   ]
  },
  {
   "cell_type": "code",
   "execution_count": 48,
   "id": "d977e112",
   "metadata": {
    "execution": {
     "iopub.execute_input": "2025-03-15T13:22:13.707172Z",
     "iopub.status.busy": "2025-03-15T13:22:13.706757Z",
     "iopub.status.idle": "2025-03-15T13:22:13.714909Z",
     "shell.execute_reply": "2025-03-15T13:22:13.713730Z"
    },
    "papermill": {
     "duration": 0.035542,
     "end_time": "2025-03-15T13:22:13.717028",
     "exception": false,
     "start_time": "2025-03-15T13:22:13.681486",
     "status": "completed"
    },
    "tags": []
   },
   "outputs": [
    {
     "data": {
      "text/plain": [
       "0    6447.980\n",
       "1    6931.160\n",
       "2    6369.370\n",
       "3    6646.375\n",
       "4    7030.205\n",
       "Name: predicted_price, dtype: float64"
      ]
     },
     "execution_count": 48,
     "metadata": {},
     "output_type": "execute_result"
    }
   ],
   "source": [
    "test_data[\"predicted_price\"].head()"
   ]
  },
  {
   "cell_type": "code",
   "execution_count": 49,
   "id": "919540c2",
   "metadata": {
    "execution": {
     "iopub.execute_input": "2025-03-15T13:22:13.767160Z",
     "iopub.status.busy": "2025-03-15T13:22:13.766759Z",
     "iopub.status.idle": "2025-03-15T13:22:13.791265Z",
     "shell.execute_reply": "2025-03-15T13:22:13.789973Z"
    },
    "papermill": {
     "duration": 0.05213,
     "end_time": "2025-03-15T13:22:13.793178",
     "exception": false,
     "start_time": "2025-03-15T13:22:13.741048",
     "status": "completed"
    },
    "tags": []
   },
   "outputs": [
    {
     "data": {
      "text/plain": [
       "time_taken                         0\n",
       "stop                               0\n",
       "Days_Left                          0\n",
       "airline_AirAsia                    0\n",
       "airline_GO FIRST                   0\n",
       "airline_Indigo                     0\n",
       "airline_Other                      0\n",
       "airline_SpiceJet                   0\n",
       "airline_Vistara                    0\n",
       "source_city_Chennai                0\n",
       "source_city_Delhi                  0\n",
       "source_city_Hyderabad              0\n",
       "source_city_Kolkata                0\n",
       "source_city_Mumbai                 0\n",
       "destinate_city_Chennai             0\n",
       "destinate_city_Delhi               0\n",
       "destinate_city_Hyderabad           0\n",
       "destinate_city_Kolkata             0\n",
       "destinate_city_Mumbai              0\n",
       "Class_Economy                      0\n",
       "dep_time_category_Early Morning    0\n",
       "dep_time_category_Evening          0\n",
       "dep_time_category_Morning          0\n",
       "dep_time_category_Night            0\n",
       "arr_time_category_Early Morning    0\n",
       "arr_time_category_Evening          0\n",
       "arr_time_category_Morning          0\n",
       "arr_time_category_Night            0\n",
       "predicted_price                    0\n",
       "dtype: int64"
      ]
     },
     "execution_count": 49,
     "metadata": {},
     "output_type": "execute_result"
    }
   ],
   "source": [
    "test_data.isnull().sum()"
   ]
  },
  {
   "cell_type": "code",
   "execution_count": 50,
   "id": "2b77fe26",
   "metadata": {
    "execution": {
     "iopub.execute_input": "2025-03-15T13:22:13.842504Z",
     "iopub.status.busy": "2025-03-15T13:22:13.842149Z",
     "iopub.status.idle": "2025-03-15T13:22:13.858315Z",
     "shell.execute_reply": "2025-03-15T13:22:13.856909Z"
    },
    "papermill": {
     "duration": 0.043471,
     "end_time": "2025-03-15T13:22:13.860636",
     "exception": false,
     "start_time": "2025-03-15T13:22:13.817165",
     "status": "completed"
    },
    "tags": []
   },
   "outputs": [
    {
     "data": {
      "text/html": [
       "<div>\n",
       "<style scoped>\n",
       "    .dataframe tbody tr th:only-of-type {\n",
       "        vertical-align: middle;\n",
       "    }\n",
       "\n",
       "    .dataframe tbody tr th {\n",
       "        vertical-align: top;\n",
       "    }\n",
       "\n",
       "    .dataframe thead th {\n",
       "        text-align: right;\n",
       "    }\n",
       "</style>\n",
       "<table border=\"1\" class=\"dataframe\">\n",
       "  <thead>\n",
       "    <tr style=\"text-align: right;\">\n",
       "      <th></th>\n",
       "      <th>airline</th>\n",
       "      <th>dep_time_category</th>\n",
       "      <th>source_city</th>\n",
       "      <th>time_taken</th>\n",
       "      <th>stop</th>\n",
       "      <th>arr_time_category</th>\n",
       "      <th>destinate_city</th>\n",
       "      <th>price</th>\n",
       "      <th>Class</th>\n",
       "    </tr>\n",
       "  </thead>\n",
       "  <tbody>\n",
       "    <tr>\n",
       "      <th>0</th>\n",
       "      <td>SpiceJet</td>\n",
       "      <td>18:55</td>\n",
       "      <td>Delhi</td>\n",
       "      <td>130.0</td>\n",
       "      <td>0.0</td>\n",
       "      <td>21:05</td>\n",
       "      <td>Mumbai</td>\n",
       "      <td>5953.0</td>\n",
       "      <td>Economy</td>\n",
       "    </tr>\n",
       "    <tr>\n",
       "      <th>1</th>\n",
       "      <td>SpiceJet</td>\n",
       "      <td>6:20</td>\n",
       "      <td>Delhi</td>\n",
       "      <td>140.0</td>\n",
       "      <td>0.0</td>\n",
       "      <td>8:40</td>\n",
       "      <td>Mumbai</td>\n",
       "      <td>5953.0</td>\n",
       "      <td>Economy</td>\n",
       "    </tr>\n",
       "    <tr>\n",
       "      <th>2</th>\n",
       "      <td>AirAsia</td>\n",
       "      <td>4:25</td>\n",
       "      <td>Delhi</td>\n",
       "      <td>130.0</td>\n",
       "      <td>0.0</td>\n",
       "      <td>6:35</td>\n",
       "      <td>Mumbai</td>\n",
       "      <td>5956.0</td>\n",
       "      <td>Economy</td>\n",
       "    </tr>\n",
       "    <tr>\n",
       "      <th>3</th>\n",
       "      <td>Vistara</td>\n",
       "      <td>10:20</td>\n",
       "      <td>Delhi</td>\n",
       "      <td>135.0</td>\n",
       "      <td>0.0</td>\n",
       "      <td>12:35</td>\n",
       "      <td>Mumbai</td>\n",
       "      <td>5955.0</td>\n",
       "      <td>Economy</td>\n",
       "    </tr>\n",
       "    <tr>\n",
       "      <th>4</th>\n",
       "      <td>Vistara</td>\n",
       "      <td>8:50</td>\n",
       "      <td>Delhi</td>\n",
       "      <td>140.0</td>\n",
       "      <td>0.0</td>\n",
       "      <td>11:10</td>\n",
       "      <td>Mumbai</td>\n",
       "      <td>5955.0</td>\n",
       "      <td>Economy</td>\n",
       "    </tr>\n",
       "  </tbody>\n",
       "</table>\n",
       "</div>"
      ],
      "text/plain": [
       "    airline dep_time_category source_city  time_taken  stop arr_time_category  \\\n",
       "0  SpiceJet             18:55       Delhi       130.0   0.0             21:05   \n",
       "1  SpiceJet              6:20       Delhi       140.0   0.0              8:40   \n",
       "2   AirAsia              4:25       Delhi       130.0   0.0              6:35   \n",
       "3   Vistara             10:20       Delhi       135.0   0.0             12:35   \n",
       "4   Vistara              8:50       Delhi       140.0   0.0             11:10   \n",
       "\n",
       "  destinate_city   price    Class  \n",
       "0         Mumbai  5953.0  Economy  \n",
       "1         Mumbai  5953.0  Economy  \n",
       "2         Mumbai  5956.0  Economy  \n",
       "3         Mumbai  5955.0  Economy  \n",
       "4         Mumbai  5955.0  Economy  "
      ]
     },
     "execution_count": 50,
     "metadata": {},
     "output_type": "execute_result"
    }
   ],
   "source": [
    "# Add predictions to the original test dataset\n",
    "test_data[\"predicted_price\"] = test_predictions\n",
    "\n",
    "# Print the formatted output\n",
    "test_data_original.head()"
   ]
  },
  {
   "cell_type": "code",
   "execution_count": 51,
   "id": "1ed33872",
   "metadata": {
    "execution": {
     "iopub.execute_input": "2025-03-15T13:22:13.910879Z",
     "iopub.status.busy": "2025-03-15T13:22:13.910483Z",
     "iopub.status.idle": "2025-03-15T13:22:14.585965Z",
     "shell.execute_reply": "2025-03-15T13:22:14.584540Z"
    },
    "papermill": {
     "duration": 0.703065,
     "end_time": "2025-03-15T13:22:14.588085",
     "exception": false,
     "start_time": "2025-03-15T13:22:13.885020",
     "status": "completed"
    },
    "tags": []
   },
   "outputs": [
    {
     "data": {
      "image/png": "[encoded data removed]",
      "text/plain": [
       "<Figure size 1200x600 with 1 Axes>"
      ]
     },
     "metadata": {},
     "output_type": "display_data"
    }
   ],
   "source": [
    "\n",
    "import seaborn as sns\n",
    "\n",
    "# Generate predictions for validation data\n",
    "y_pred = model.predict(X_valid)\n",
    "\n",
    "# Sort values for better visualization\n",
    "sorted_indices = np.argsort(y_valid.values)\n",
    "y_valid_sorted = y_valid.values[sorted_indices]\n",
    "y_pred_sorted = y_pred[sorted_indices]\n",
    "\n",
    "# Plot actual vs. predicted prices\n",
    "plt.figure(figsize=(12, 6))\n",
    "\n",
    "plt.plot(y_valid_sorted, label=\"Actual Prices\", color=\"blue\", linestyle=\"-\", marker=\"o\", alpha=0.7)\n",
    "plt.plot(y_pred_sorted, label=\"Predicted Prices\", color=\"green\", linestyle=\"-\", marker=\"x\", alpha=0.7)\n",
    "\n",
    "plt.xlabel(\"Sample Index (Sorted by Actual Price)\")\n",
    "plt.ylabel(\"Price\")\n",
    "plt.title(\"Actual vs. Predicted Prices (Linear Regression)\")\n",
    "plt.legend()\n",
    "plt.grid(True)\n",
    "\n",
    "plt.show()"
   ]
  }
 ],
 "metadata": {
  "kaggle": {
   "accelerator": "none",
   "dataSources": [
    {
     "datasetId": 6553478,
     "sourceId": 10589124,
     "sourceType": "datasetVersion"
    }
   ],
   "dockerImageVersionId": 30918,
   "isGpuEnabled": false,
   "isInternetEnabled": false,
   "language": "python",
   "sourceType": "notebook"
  },
  "kernelspec": {
   "display_name": "Python 3",
   "language": "python",
   "name": "python3"
  },
  "language_info": {
   "codemirror_mode": {
    "name": "ipython",
    "version": 3
   },
   "file_extension": ".py",
   "mimetype": "text/x-python",
   "name": "python",
   "nbconvert_exporter": "python",
   "pygments_lexer": "ipython3",
   "version": "3.10.12"
  },
  "papermill": {
   "default_parameters": {},
   "duration": 142.751286,
   "end_time": "2025-03-15T13:22:15.537789",
   "environment_variables": {},
   "exception": null,
   "input_path": "__notebook__.ipynb",
   "output_path": "__notebook__.ipynb",
   "parameters": {},
   "start_time": "2025-03-15T13:19:52.786503",
   "version": "2.6.0"
  }
 },
 "nbformat": 4,
 "nbformat_minor": 5
}
